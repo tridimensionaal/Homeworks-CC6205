{
 "cells": [
  {
   "cell_type": "markdown",
   "metadata": {
    "id": "18J40PUlLQle"
   },
   "source": [
    "<h1><center>Auxiliar 1 </center></h1>\n",
    "\n",
    "<center><strong>CC6205: Procesamiento de Lenguaje Natural - Otoño 2022</strong></center>\n"
   ]
  },
  {
   "cell_type": "markdown",
   "metadata": {
    "id": "JrSKkKlRrkdb"
   },
   "source": [
    "## 📚 Objetivos de la clase 📚\n",
    "\n",
    "El objetivo principal de esta clase es introducirlos a la clasificación de texto en NLP. \n",
    "Para esto, implementaremos varios modelos de clasificación destinados a **predecir la categoría asociada a noticias de la radio biobio**.\n",
    "\n",
    "Utilizaremos los siguientes elementos, que fueron descritos en las cátedras:\n",
    "\n",
    "- Tokenización, Stemming, Lematización y eliminación de Stop Words.\n",
    "- Bag of Words.\n",
    "- Clasificador de Bayes.\n",
    "- Logistic regression.\n",
    "\n",
    "Las librerías que vamos a utilizar son las siguientes:\n",
    "\n",
    "- Pandas\n",
    "- Scikit-Learn\n",
    "- Spacy\n",
    "- NLTK\n",
    "\n",
    "Además, pueden utilizar cualquier parte del código que les parezca prudente para la competencia 1 (que también es de clasificación de texto! 😊).\n",
    "\n"
   ]
  },
  {
   "cell_type": "markdown",
   "metadata": {
    "id": "k3amA_RS6wNc"
   },
   "source": [
    "## Configuraciones iniciales. "
   ]
  },
  {
   "cell_type": "markdown",
   "metadata": {
    "id": "xfVbsaRc68JJ"
   },
   "source": [
    "En primer lugar, vamos a descargar un modelo estadístico en Español que nos servirá como tokenizador para nuestros documentos. "
   ]
  },
  {
   "cell_type": "code",
   "execution_count": 8,
   "metadata": {
    "colab": {
     "base_uri": "https://localhost:8080/"
    },
    "id": "C7Dd2zkK6xaa",
    "outputId": "b7adc05e-1473-4424-b029-75f574b408e9"
   },
   "outputs": [
    {
     "name": "stdout",
     "output_type": "stream",
     "text": [
      "/home/tridimensional/u/dcc/noveno/nlp/nlp/bin/python: No module named spacy\r\n"
     ]
    }
   ],
   "source": [
    "!python -m spacy download es_core_news_sm"
   ]
  },
  {
   "cell_type": "markdown",
   "metadata": {
    "id": "px0x6crM7gu9"
   },
   "source": [
    "Luego de ejecutar esta celda, deben ir a Entorno de ejecución > Reiniciar entorno de ejecución. Desconozco la razón pero hay un problema de compatibilidad entre el entorno de Google Colab y las dependencias de Spacy. Cuando esté el entorno conectado nuevamente, pueden seguir con los siguientes bloques de código."
   ]
  },
  {
   "cell_type": "code",
   "execution_count": 2,
   "metadata": {
    "colab": {
     "base_uri": "https://localhost:8080/"
    },
    "id": "XOJsVPnw7Tfh",
    "outputId": "3f9fa25d-ae6f-447e-ea88-3f1ee8fb72e2"
   },
   "outputs": [
    {
     "ename": "ModuleNotFoundError",
     "evalue": "No module named 'spacy'",
     "output_type": "error",
     "traceback": [
      "\u001b[0;31m---------------------------------------------------------------------------\u001b[0m",
      "\u001b[0;31mModuleNotFoundError\u001b[0m                       Traceback (most recent call last)",
      "Input \u001b[0;32mIn [2]\u001b[0m, in \u001b[0;36m<cell line: 1>\u001b[0;34m()\u001b[0m\n\u001b[0;32m----> 1\u001b[0m \u001b[38;5;28;01mimport\u001b[39;00m \u001b[38;5;21;01mspacy\u001b[39;00m\n\u001b[1;32m      3\u001b[0m \u001b[38;5;66;03m# Guardamos en la variable nlp el modelo para realizar la tokenización.\u001b[39;00m\n\u001b[1;32m      4\u001b[0m nlp \u001b[38;5;241m=\u001b[39m spacy\u001b[38;5;241m.\u001b[39mload(\u001b[38;5;124m\"\u001b[39m\u001b[38;5;124mes_core_news_sm\u001b[39m\u001b[38;5;124m\"\u001b[39m, disable \u001b[38;5;241m=\u001b[39m [\u001b[38;5;124m'\u001b[39m\u001b[38;5;124mner\u001b[39m\u001b[38;5;124m'\u001b[39m, \u001b[38;5;124m'\u001b[39m\u001b[38;5;124mparser\u001b[39m\u001b[38;5;124m'\u001b[39m, \u001b[38;5;124m'\u001b[39m\u001b[38;5;124mtagger\u001b[39m\u001b[38;5;124m'\u001b[39m])\n",
      "\u001b[0;31mModuleNotFoundError\u001b[0m: No module named 'spacy'"
     ]
    }
   ],
   "source": [
    "import spacy\n",
    "\n",
    "# Guardamos en la variable nlp el modelo para realizar la tokenización.\n",
    "nlp = spacy.load(\"es_core_news_sm\", disable = ['ner', 'parser', 'tagger'])\n",
    "\n",
    "example = 'Este es un ejemplo del tokenizador!'\n",
    "spacy_tokens = [token for token in nlp(example)]\n",
    "spacy_tokens"
   ]
  },
  {
   "cell_type": "markdown",
   "metadata": {
    "id": "B2PfDvgn7F52"
   },
   "source": [
    "Ahora importamos todas las librerías que usaremos en esta auxiliar. Aún no es necesario que entiendan lo que hacen estas librerías, clases y funciones importadas ya que lo veremos ha medida que avancemos en el auxiliar."
   ]
  },
  {
   "cell_type": "code",
   "execution_count": null,
   "metadata": {
    "id": "OwBac1ml7LUn"
   },
   "outputs": [],
   "source": [
    "import pandas as pd    \n",
    "import seaborn as sns\n",
    "import spacy\n",
    "import nltk\n",
    "from sklearn.feature_extraction.text import CountVectorizer  \n",
    "from sklearn.pipeline import Pipeline, FeatureUnion\n",
    "from sklearn.naive_bayes import MultinomialNB\n",
    "from sklearn.linear_model import LogisticRegression\n",
    "from sklearn.model_selection import train_test_split\n",
    "from sklearn.metrics import confusion_matrix, f1_score, classification_report\n",
    "from sklearn.feature_extraction.text import TfidfVectorizer\n",
    "from nltk.stem import SnowballStemmer\n",
    "from nltk.corpus import stopwords\n",
    "from spacy.lang.es.stop_words import STOP_WORDS"
   ]
  },
  {
   "cell_type": "markdown",
   "metadata": {
    "id": "jeBSLCaVrkdj"
   },
   "source": [
    "## Clasificación de Texto "
   ]
  },
  {
   "cell_type": "markdown",
   "metadata": {
    "id": "gq1uVv3jrkdq"
   },
   "source": [
    "\n",
    "### ¿Qué es la clasificación de texto?\n",
    "\n",
    "En palabras simples, la clasificación de texto es una tarea de NLP que busca clasificar el contenido de un texto en categorías pre-definidas. Antes de dar una definición formal, veamos algunos ejemplos. [Fuente](https://kavita-ganesan.com/5-real-world-examples-of-text-classification/#.YHOvqR8zbIU)\n",
    "\n",
    "    \n",
    "\n",
    "\n"
   ]
  },
  {
   "cell_type": "markdown",
   "metadata": {
    "id": "Xn-Rq--eMrQ3"
   },
   "source": [
    "1. **Detección de SPAM**. "
   ]
  },
  {
   "cell_type": "markdown",
   "metadata": {
    "id": "5KcdYWWwMZA_"
   },
   "source": [
    "<center><img src=\"https://i1.wp.com/www.opinosis-analytics.com/wp-content/uploads/2020/08/document_classification.png?resize=872%2C436&ssl=1\" width=\"400\"></center>"
   ]
  },
  {
   "cell_type": "markdown",
   "metadata": {
    "id": "7GuSb2rlNNaA"
   },
   "source": [
    "2. **Detección de discursos de odio**."
   ]
  },
  {
   "cell_type": "markdown",
   "metadata": {
    "id": "L5tzEA5CNQem"
   },
   "source": [
    "<center><img src=https://i1.wp.com/www.opinosis-analytics.com/wp-content/uploads/2020/08/hate_speech-1.png?resize=410%2C193&ssl=1\" width=\"400\"></center>"
   ]
  },
  {
   "cell_type": "markdown",
   "metadata": {
    "id": "gZZJbB1bNfvu"
   },
   "source": [
    "3. **Sistema de ayuda a partir de información en redes sociales**."
   ]
  },
  {
   "cell_type": "markdown",
   "metadata": {
    "id": "mpZImILDMNzk"
   },
   "source": [
    "<center><img src=https://cdn-images-1.medium.com/max/800/1*0DutkCqj51mgZ1xQp7tChA.png width=\"400\"></center>"
   ]
  },
  {
   "cell_type": "markdown",
   "metadata": {
    "id": "IyLPZiO-OIQ7"
   },
   "source": [
    "4. **Análisis de reviews de películas y series**."
   ]
  },
  {
   "cell_type": "markdown",
   "metadata": {
    "id": "wIYSesTCOTKy"
   },
   "source": [
    "<center><img src=https://raw.githubusercontent.com/dccuchile/CC6205/master/tutorials/recursos/limpiapiscinas.PNG width=\"650\"></center>"
   ]
  },
  {
   "cell_type": "markdown",
   "metadata": {
    "id": "yFfoJK1pOmwV"
   },
   "source": [
    "**Formalización de la tarea.**"
   ]
  },
  {
   "cell_type": "markdown",
   "metadata": {
    "id": "D67KxyQUMQSR"
   },
   "source": [
    "- Input: \n",
    "\n",
    "  - Un documento $d$\n",
    "  \n",
    "  - Un conjunto fijo de clases $c_1, c_2, ..., c_j$\n",
    "\n",
    "- Output: \n",
    "    \n",
    "  - Una clase $c \\in C$ asociada al documento d.\n",
    "    \n",
    " \n"
   ]
  },
  {
   "cell_type": "markdown",
   "metadata": {
    "id": "F4CBPclSO3_E"
   },
   "source": [
    "**Métodos para resolver la clasificación de texto.**"
   ]
  },
  {
   "cell_type": "markdown",
   "metadata": {
    "id": "whuucqRcMTNY"
   },
   "source": [
    "Hay dos clases de métodos para resolver estos problemas: \n",
    "\n",
    "1. **Hand-coded Rules 🤙**: \n",
    "\n",
    "    Establecemos a mano las reglas que permiten detectar las clases.\n",
    "    \n",
    "\n",
    "2. **Supervised Machine Learning 💻**:\n",
    "   \n",
    "    Entrenamos clasificadores a partir de muchos ejemplos de documentos que fueron etiquetados a mano. **¿El desafío de NLP?**, generar reprentaciones que nos permitan absorver la semantica desde los textos.\n",
    "\n",
    "<center><img src=https://qph.fs.quoracdn.net/main-qimg-cf44194b2a2d7d270b09e95903c564c3 width=\"650\"></center>\n",
    "\n",
    "----------------------------------------"
   ]
  },
  {
   "cell_type": "markdown",
   "metadata": {
    "id": "fNkZiEbkrkds"
   },
   "source": [
    "## Clasificación de noticias.\n",
    "\n",
    "\n",
    "Cómo dijimos al comienzo, en este auxiliar crearemos un sistema que nos permita clasificar noticias de la radio biobio en 20 categorías o tópicos. Siguiendo la formalización de la task, los datos los vamos a obtener desde nuestro repositorio de github y las categorías pre-definidas son las siguientes:\n",
    "\n",
    "```python\n",
    "[\n",
    "    'america-latina', 'eeuu', 'europa', 'chile', 'region-metropolitana',\n",
    "    'region-del-bio-bio', 'negocios-y-empresas', 'region-de-los-lagos',\n",
    "    'actualidad-economica', 'region-de-valparaiso', 'region-de-la-araucania',\n",
    "    'curiosidades', 'asia', 'region-de-los-rios', 'entrevistas', 'debate',\n",
    "    'mediooriente', 'viral', 'animales', 'tu-bolsillo'\n",
    "]\n",
    "```\n",
    "\n",
    "Los pasos a seguir serán: \n",
    "\n",
    "1. Descargar y procesar los datos desde el repositorio.\n",
    "\n",
    "2. Luego, crearemos el sistema mas básico. Este consiste en transformar nuestro texto a `Bag of Words (BoW)` y luego, usar esos vectores para entrenar un clasificador. Este sistema nos puede entregar un muy buen baseline para comenzar a mejorar.\n",
    "\n",
    "3. Evaluaremos nuestro clasificador según las métricas.\n",
    "\n",
    "4. A continuación, veremos como mejorar aún más nuestros resultados. Para esto agregaremos muchas más técnicas vistas en cátedra, tales como el preprocesamiento de texto y probar con clasificadores aún mas sofisticados.\n",
    "\n"
   ]
  },
  {
   "cell_type": "markdown",
   "metadata": {
    "id": "BOa_yZ8Orkdt"
   },
   "source": [
    "### Cargar los datasets \n",
    "\n",
    "\n",
    "Los datos obtenidos son noticias de la radio Bío Bío. Los cargaremos directamente desde el github del curso utilizando la librería `pandas` 🐼. En cuanto al pre-procesamiento lo que haremos será dejar sólo las columnas de interés que son el título, el contenido de la noticia y la subcategoría que es la variable objetivo a predecir. Además dejaremos sólo 20 de estas categorías con 250 ejemplos en noticias en cada una para balancear los datos.\n",
    "\n",
    "\n"
   ]
  },
  {
   "cell_type": "code",
   "execution_count": 3,
   "metadata": {
    "id": "Yd1_gzXQrkdu"
   },
   "outputs": [
    {
     "ename": "NameError",
     "evalue": "name 'pd' is not defined",
     "output_type": "error",
     "traceback": [
      "\u001b[0;31m---------------------------------------------------------------------------\u001b[0m",
      "\u001b[0;31mNameError\u001b[0m                                 Traceback (most recent call last)",
      "Input \u001b[0;32mIn [3]\u001b[0m, in \u001b[0;36m<cell line: 2>\u001b[0;34m()\u001b[0m\n\u001b[1;32m      1\u001b[0m \u001b[38;5;66;03m# Cargamos los datos y los guardamos en un pandas dataframe.\u001b[39;00m\n\u001b[0;32m----> 2\u001b[0m dataset \u001b[38;5;241m=\u001b[39m \u001b[43mpd\u001b[49m\u001b[38;5;241m.\u001b[39mread_json(\u001b[38;5;124m'\u001b[39m\u001b[38;5;124mhttps://github.com/dccuchile/CC6205/releases/download/Data/biobio_clean.bz2\u001b[39m\u001b[38;5;124m'\u001b[39m)\n\u001b[1;32m      4\u001b[0m \u001b[38;5;66;03m# Lo copiapos aquí por si modificamos a la variable Dataset.\u001b[39;00m\n\u001b[1;32m      5\u001b[0m dataset_r \u001b[38;5;241m=\u001b[39m dataset\u001b[38;5;241m.\u001b[39mcopy(deep\u001b[38;5;241m=\u001b[39m\u001b[38;5;28;01mTrue\u001b[39;00m)\n",
      "\u001b[0;31mNameError\u001b[0m: name 'pd' is not defined"
     ]
    }
   ],
   "source": [
    "# Cargamos los datos y los guardamos en un pandas dataframe.\n",
    "dataset = pd.read_json('https://github.com/dccuchile/CC6205/releases/download/Data/biobio_clean.bz2')\n",
    "\n",
    "# Lo copiapos aquí por si modificamos a la variable Dataset.\n",
    "dataset_r = dataset.copy(deep=True) "
   ]
  },
  {
   "cell_type": "code",
   "execution_count": 4,
   "metadata": {
    "colab": {
     "base_uri": "https://localhost:8080/",
     "height": 548
    },
    "id": "wFcbMil7u5Ff",
    "outputId": "6fdd69b8-f352-4f68-8da0-c2df6c1c34a1"
   },
   "outputs": [
    {
     "ename": "NameError",
     "evalue": "name 'dataset' is not defined",
     "output_type": "error",
     "traceback": [
      "\u001b[0;31m---------------------------------------------------------------------------\u001b[0m",
      "\u001b[0;31mNameError\u001b[0m                                 Traceback (most recent call last)",
      "Input \u001b[0;32mIn [4]\u001b[0m, in \u001b[0;36m<cell line: 2>\u001b[0;34m()\u001b[0m\n\u001b[1;32m      1\u001b[0m \u001b[38;5;66;03m# Vemos unos ejemplos de como se ve el Dataset original.\u001b[39;00m\n\u001b[0;32m----> 2\u001b[0m \u001b[43mdataset\u001b[49m\u001b[38;5;241m.\u001b[39msample(\u001b[38;5;241m5\u001b[39m)\n",
      "\u001b[0;31mNameError\u001b[0m: name 'dataset' is not defined"
     ]
    }
   ],
   "source": [
    "# Vemos unos ejemplos de como se ve el Dataset original.\n",
    "dataset.sample(5)"
   ]
  },
  {
   "cell_type": "code",
   "execution_count": 5,
   "metadata": {
    "id": "oenHvY_Yrkdv"
   },
   "outputs": [
    {
     "ename": "NameError",
     "evalue": "name 'dataset' is not defined",
     "output_type": "error",
     "traceback": [
      "\u001b[0;31m---------------------------------------------------------------------------\u001b[0m",
      "\u001b[0;31mNameError\u001b[0m                                 Traceback (most recent call last)",
      "Input \u001b[0;32mIn [5]\u001b[0m, in \u001b[0;36m<cell line: 2>\u001b[0;34m()\u001b[0m\n\u001b[1;32m      1\u001b[0m \u001b[38;5;66;03m# creamos una nueva columna con la concatenación entre el titulo y el contenido.\u001b[39;00m\n\u001b[0;32m----> 2\u001b[0m content \u001b[38;5;241m=\u001b[39m \u001b[43mdataset\u001b[49m[\u001b[38;5;124m'\u001b[39m\u001b[38;5;124mtitle\u001b[39m\u001b[38;5;124m'\u001b[39m] \u001b[38;5;241m+\u001b[39m \u001b[38;5;124m'\u001b[39m\u001b[38;5;124m. \u001b[39m\u001b[38;5;124m'\u001b[39m \u001b[38;5;241m+\u001b[39m dataset[\u001b[38;5;124m'\u001b[39m\u001b[38;5;124mcontent\u001b[39m\u001b[38;5;124m'\u001b[39m] \n\u001b[1;32m      4\u001b[0m \u001b[38;5;66;03m# obtenemos las clases que serán nuestra variable objetivo\u001b[39;00m\n\u001b[1;32m      5\u001b[0m subcategory \u001b[38;5;241m=\u001b[39m dataset\u001b[38;5;241m.\u001b[39msubcategory\n",
      "\u001b[0;31mNameError\u001b[0m: name 'dataset' is not defined"
     ]
    }
   ],
   "source": [
    "# creamos una nueva columna con la concatenación entre el titulo y el contenido.\n",
    "content = dataset['title'] + '. ' + dataset['content'] \n",
    "\n",
    "# obtenemos las clases que serán nuestra variable objetivo\n",
    "subcategory = dataset.subcategory\n",
    "\n",
    "# dejamos en el dataset solo contenido de la noticia y categoria\n",
    "dataset = pd.DataFrame({'content': content, 'category': subcategory})"
   ]
  },
  {
   "cell_type": "code",
   "execution_count": 6,
   "metadata": {
    "colab": {
     "base_uri": "https://localhost:8080/"
    },
    "id": "dDE96bUGMImL",
    "outputId": "8829803a-4877-42e6-8e5f-ed32ba8f92eb"
   },
   "outputs": [
    {
     "ename": "NameError",
     "evalue": "name 'subcategory' is not defined",
     "output_type": "error",
     "traceback": [
      "\u001b[0;31m---------------------------------------------------------------------------\u001b[0m",
      "\u001b[0;31mNameError\u001b[0m                                 Traceback (most recent call last)",
      "Input \u001b[0;32mIn [6]\u001b[0m, in \u001b[0;36m<cell line: 2>\u001b[0;34m()\u001b[0m\n\u001b[1;32m      1\u001b[0m \u001b[38;5;66;03m# Listado con todas las categorías originales del Dataset\u001b[39;00m\n\u001b[0;32m----> 2\u001b[0m \u001b[38;5;28mlist\u001b[39m(\u001b[38;5;28mset\u001b[39m(\u001b[43msubcategory\u001b[49m))\n",
      "\u001b[0;31mNameError\u001b[0m: name 'subcategory' is not defined"
     ]
    }
   ],
   "source": [
    "# Listado con todas las categorías originales del Dataset\n",
    "list(set(subcategory))"
   ]
  },
  {
   "cell_type": "code",
   "execution_count": 7,
   "metadata": {
    "id": "8X1boyPhrkdv"
   },
   "outputs": [
    {
     "ename": "NameError",
     "evalue": "name 'dataset' is not defined",
     "output_type": "error",
     "traceback": [
      "\u001b[0;31m---------------------------------------------------------------------------\u001b[0m",
      "\u001b[0;31mNameError\u001b[0m                                 Traceback (most recent call last)",
      "Input \u001b[0;32mIn [7]\u001b[0m, in \u001b[0;36m<cell line: 18>\u001b[0;34m()\u001b[0m\n\u001b[1;32m      9\u001b[0m categorias_seleccionadas \u001b[38;5;241m=\u001b[39m [\n\u001b[1;32m     10\u001b[0m     \u001b[38;5;124m'\u001b[39m\u001b[38;5;124mamerica-latina\u001b[39m\u001b[38;5;124m'\u001b[39m, \u001b[38;5;124m'\u001b[39m\u001b[38;5;124meeuu\u001b[39m\u001b[38;5;124m'\u001b[39m, \u001b[38;5;124m'\u001b[39m\u001b[38;5;124meuropa\u001b[39m\u001b[38;5;124m'\u001b[39m, \u001b[38;5;124m'\u001b[39m\u001b[38;5;124mchile\u001b[39m\u001b[38;5;124m'\u001b[39m, \u001b[38;5;124m'\u001b[39m\u001b[38;5;124mregion-metropolitana\u001b[39m\u001b[38;5;124m'\u001b[39m,\n\u001b[1;32m     11\u001b[0m     \u001b[38;5;124m'\u001b[39m\u001b[38;5;124mregion-del-bio-bio\u001b[39m\u001b[38;5;124m'\u001b[39m, \u001b[38;5;124m'\u001b[39m\u001b[38;5;124mnegocios-y-empresas\u001b[39m\u001b[38;5;124m'\u001b[39m, \u001b[38;5;124m'\u001b[39m\u001b[38;5;124mregion-de-los-lagos\u001b[39m\u001b[38;5;124m'\u001b[39m,\n\u001b[0;32m   (...)\u001b[0m\n\u001b[1;32m     14\u001b[0m     \u001b[38;5;124m'\u001b[39m\u001b[38;5;124mmediooriente\u001b[39m\u001b[38;5;124m'\u001b[39m, \u001b[38;5;124m'\u001b[39m\u001b[38;5;124mviral\u001b[39m\u001b[38;5;124m'\u001b[39m, \u001b[38;5;124m'\u001b[39m\u001b[38;5;124manimales\u001b[39m\u001b[38;5;124m'\u001b[39m, \u001b[38;5;124m'\u001b[39m\u001b[38;5;124mtu-bolsillo\u001b[39m\u001b[38;5;124m'\u001b[39m\n\u001b[1;32m     15\u001b[0m ]\n\u001b[1;32m     17\u001b[0m \u001b[38;5;66;03m# filtrar solo categorias seleccionadas\u001b[39;00m\n\u001b[0;32m---> 18\u001b[0m dataset \u001b[38;5;241m=\u001b[39m \u001b[43mdataset\u001b[49m[dataset[\u001b[38;5;124m'\u001b[39m\u001b[38;5;124mcategory\u001b[39m\u001b[38;5;124m'\u001b[39m]\u001b[38;5;241m.\u001b[39misin(categorias_seleccionadas)]\n\u001b[1;32m     20\u001b[0m \u001b[38;5;66;03m# fijamos el número de ejemplos para todas las categorías\u001b[39;00m\n\u001b[1;32m     21\u001b[0m NUM_SAMPLES \u001b[38;5;241m=\u001b[39m \u001b[38;5;241m250\u001b[39m\n",
      "\u001b[0;31mNameError\u001b[0m: name 'dataset' is not defined"
     ]
    }
   ],
   "source": [
    "# El número de noticias por clase lo pueden cambiar despues modificando la constante NUM_SAMPLES.\n",
    "# noten que el número de noticias en el dataset original por categoría está desbalanceada.\n",
    "# sample intentará sacar la mayor cantidad de ejemplos y retornará siempre, incluso si devuelve \n",
    "# menos de los que le pidieron.\n",
    "\n",
    "\n",
    "\n",
    "# Estas son las categorías que nos van a interesar\n",
    "categorias_seleccionadas = [\n",
    "    'america-latina', 'eeuu', 'europa', 'chile', 'region-metropolitana',\n",
    "    'region-del-bio-bio', 'negocios-y-empresas', 'region-de-los-lagos',\n",
    "    'actualidad-economica', 'region-de-valparaiso', 'region-de-la-araucania',\n",
    "    'curiosidades', 'asia', 'region-de-los-rios', 'debate', 'entrevistas',\n",
    "    'mediooriente', 'viral', 'animales', 'tu-bolsillo'\n",
    "]\n",
    "\n",
    "# filtrar solo categorias seleccionadas\n",
    "dataset = dataset[dataset['category'].isin(categorias_seleccionadas)]\n",
    "\n",
    "# fijamos el número de ejemplos para todas las categorías\n",
    "NUM_SAMPLES = 250\n",
    "\n",
    "# podrían tambien seleccionar la categoría con la menor cantidad de noticias y que todas tuvieran dicha cantidad\n",
    "#NUM_SAMPLES = min(dataset.category.value_counts().values)"
   ]
  },
  {
   "cell_type": "code",
   "execution_count": 9,
   "metadata": {
    "id": "R7tfttx3vkyL"
   },
   "outputs": [],
   "source": [
    "# balancear clases\n",
    "g = dataset.groupby('category')\n",
    "dataset = pd.DataFrame(\n",
    "    g.apply(lambda x: x.sample(NUM_SAMPLES).reset_index(drop=True))).reset_index(\n",
    "        drop=True)"
   ]
  },
  {
   "cell_type": "code",
   "execution_count": 10,
   "metadata": {
    "colab": {
     "base_uri": "https://localhost:8080/"
    },
    "id": "PAE0PfHmrkdw",
    "outputId": "914682fc-6a8b-48ff-e8a8-aac5357b071e"
   },
   "outputs": [
    {
     "data": {
      "text/plain": [
       "actualidad-economica      250\n",
       "america-latina            250\n",
       "tu-bolsillo               250\n",
       "region-metropolitana      250\n",
       "region-del-bio-bio        250\n",
       "region-de-valparaiso      250\n",
       "region-de-los-rios        250\n",
       "region-de-los-lagos       250\n",
       "region-de-la-araucania    250\n",
       "negocios-y-empresas       250\n",
       "mediooriente              250\n",
       "europa                    250\n",
       "entrevistas               250\n",
       "eeuu                      250\n",
       "debate                    250\n",
       "curiosidades              250\n",
       "chile                     250\n",
       "asia                      250\n",
       "animales                  250\n",
       "viral                     250\n",
       "Name: category, dtype: int64"
      ]
     },
     "execution_count": 10,
     "metadata": {},
     "output_type": "execute_result"
    }
   ],
   "source": [
    "# así quedó nuestro dataset:\n",
    "dataset.category.value_counts()"
   ]
  },
  {
   "cell_type": "markdown",
   "metadata": {
    "id": "Czmtj07Urkdy"
   },
   "source": [
    "Veamos unos cuantos ejemplos: "
   ]
  },
  {
   "cell_type": "code",
   "execution_count": 11,
   "metadata": {
    "colab": {
     "base_uri": "https://localhost:8080/",
     "height": 363
    },
    "id": "q_exS3gLrkdy",
    "outputId": "c3d85132-c2a2-4a29-c0ae-09a2a729a2be"
   },
   "outputs": [
    {
     "data": {
      "text/html": [
       "\n",
       "  <div id=\"df-46d4451b-c95a-44f3-bb9e-7b86e80eade9\">\n",
       "    <div class=\"colab-df-container\">\n",
       "      <div>\n",
       "<style scoped>\n",
       "    .dataframe tbody tr th:only-of-type {\n",
       "        vertical-align: middle;\n",
       "    }\n",
       "\n",
       "    .dataframe tbody tr th {\n",
       "        vertical-align: top;\n",
       "    }\n",
       "\n",
       "    .dataframe thead th {\n",
       "        text-align: right;\n",
       "    }\n",
       "</style>\n",
       "<table border=\"1\" class=\"dataframe\">\n",
       "  <thead>\n",
       "    <tr style=\"text-align: right;\">\n",
       "      <th></th>\n",
       "      <th>content</th>\n",
       "      <th>category</th>\n",
       "    </tr>\n",
       "  </thead>\n",
       "  <tbody>\n",
       "    <tr>\n",
       "      <th>3305</th>\n",
       "      <td>Inician obras de construcción del nuevo puerto...</td>\n",
       "      <td>region-de-los-lagos</td>\n",
       "    </tr>\n",
       "    <tr>\n",
       "      <th>1532</th>\n",
       "      <td>Indignación en Argentina por lobo marino que f...</td>\n",
       "      <td>debate</td>\n",
       "    </tr>\n",
       "    <tr>\n",
       "      <th>4744</th>\n",
       "      <td>Tesorería anuncia plazo límite para pagar cont...</td>\n",
       "      <td>tu-bolsillo</td>\n",
       "    </tr>\n",
       "    <tr>\n",
       "      <th>2220</th>\n",
       "      <td>Exdirector de Conaf defiende millonarios gasto...</td>\n",
       "      <td>entrevistas</td>\n",
       "    </tr>\n",
       "    <tr>\n",
       "      <th>2384</th>\n",
       "      <td>Salvini se consagró como líder de la ultradere...</td>\n",
       "      <td>europa</td>\n",
       "    </tr>\n",
       "    <tr>\n",
       "      <th>1076</th>\n",
       "      <td>Essal asegura que \"no se cumplen los requisito...</td>\n",
       "      <td>chile</td>\n",
       "    </tr>\n",
       "    <tr>\n",
       "      <th>4444</th>\n",
       "      <td>Detención en La Pintana permitió la recuperaci...</td>\n",
       "      <td>region-metropolitana</td>\n",
       "    </tr>\n",
       "    <tr>\n",
       "      <th>3278</th>\n",
       "      <td>Inédita investigación revela existencia de pob...</td>\n",
       "      <td>region-de-los-lagos</td>\n",
       "    </tr>\n",
       "    <tr>\n",
       "      <th>3470</th>\n",
       "      <td>Aguas de río Rahue que abastecen a comunidad h...</td>\n",
       "      <td>region-de-los-lagos</td>\n",
       "    </tr>\n",
       "    <tr>\n",
       "      <th>4433</th>\n",
       "      <td>La historia del viralizado currículum escrito ...</td>\n",
       "      <td>region-metropolitana</td>\n",
       "    </tr>\n",
       "  </tbody>\n",
       "</table>\n",
       "</div>\n",
       "      <button class=\"colab-df-convert\" onclick=\"convertToInteractive('df-46d4451b-c95a-44f3-bb9e-7b86e80eade9')\"\n",
       "              title=\"Convert this dataframe to an interactive table.\"\n",
       "              style=\"display:none;\">\n",
       "        \n",
       "  <svg xmlns=\"http://www.w3.org/2000/svg\" height=\"24px\"viewBox=\"0 0 24 24\"\n",
       "       width=\"24px\">\n",
       "    <path d=\"M0 0h24v24H0V0z\" fill=\"none\"/>\n",
       "    <path d=\"M18.56 5.44l.94 2.06.94-2.06 2.06-.94-2.06-.94-.94-2.06-.94 2.06-2.06.94zm-11 1L8.5 8.5l.94-2.06 2.06-.94-2.06-.94L8.5 2.5l-.94 2.06-2.06.94zm10 10l.94 2.06.94-2.06 2.06-.94-2.06-.94-.94-2.06-.94 2.06-2.06.94z\"/><path d=\"M17.41 7.96l-1.37-1.37c-.4-.4-.92-.59-1.43-.59-.52 0-1.04.2-1.43.59L10.3 9.45l-7.72 7.72c-.78.78-.78 2.05 0 2.83L4 21.41c.39.39.9.59 1.41.59.51 0 1.02-.2 1.41-.59l7.78-7.78 2.81-2.81c.8-.78.8-2.07 0-2.86zM5.41 20L4 18.59l7.72-7.72 1.47 1.35L5.41 20z\"/>\n",
       "  </svg>\n",
       "      </button>\n",
       "      \n",
       "  <style>\n",
       "    .colab-df-container {\n",
       "      display:flex;\n",
       "      flex-wrap:wrap;\n",
       "      gap: 12px;\n",
       "    }\n",
       "\n",
       "    .colab-df-convert {\n",
       "      background-color: #E8F0FE;\n",
       "      border: none;\n",
       "      border-radius: 50%;\n",
       "      cursor: pointer;\n",
       "      display: none;\n",
       "      fill: #1967D2;\n",
       "      height: 32px;\n",
       "      padding: 0 0 0 0;\n",
       "      width: 32px;\n",
       "    }\n",
       "\n",
       "    .colab-df-convert:hover {\n",
       "      background-color: #E2EBFA;\n",
       "      box-shadow: 0px 1px 2px rgba(60, 64, 67, 0.3), 0px 1px 3px 1px rgba(60, 64, 67, 0.15);\n",
       "      fill: #174EA6;\n",
       "    }\n",
       "\n",
       "    [theme=dark] .colab-df-convert {\n",
       "      background-color: #3B4455;\n",
       "      fill: #D2E3FC;\n",
       "    }\n",
       "\n",
       "    [theme=dark] .colab-df-convert:hover {\n",
       "      background-color: #434B5C;\n",
       "      box-shadow: 0px 1px 3px 1px rgba(0, 0, 0, 0.15);\n",
       "      filter: drop-shadow(0px 1px 2px rgba(0, 0, 0, 0.3));\n",
       "      fill: #FFFFFF;\n",
       "    }\n",
       "  </style>\n",
       "\n",
       "      <script>\n",
       "        const buttonEl =\n",
       "          document.querySelector('#df-46d4451b-c95a-44f3-bb9e-7b86e80eade9 button.colab-df-convert');\n",
       "        buttonEl.style.display =\n",
       "          google.colab.kernel.accessAllowed ? 'block' : 'none';\n",
       "\n",
       "        async function convertToInteractive(key) {\n",
       "          const element = document.querySelector('#df-46d4451b-c95a-44f3-bb9e-7b86e80eade9');\n",
       "          const dataTable =\n",
       "            await google.colab.kernel.invokeFunction('convertToInteractive',\n",
       "                                                     [key], {});\n",
       "          if (!dataTable) return;\n",
       "\n",
       "          const docLinkHtml = 'Like what you see? Visit the ' +\n",
       "            '<a target=\"_blank\" href=https://colab.research.google.com/notebooks/data_table.ipynb>data table notebook</a>'\n",
       "            + ' to learn more about interactive tables.';\n",
       "          element.innerHTML = '';\n",
       "          dataTable['output_type'] = 'display_data';\n",
       "          await google.colab.output.renderOutput(dataTable, element);\n",
       "          const docLink = document.createElement('div');\n",
       "          docLink.innerHTML = docLinkHtml;\n",
       "          element.appendChild(docLink);\n",
       "        }\n",
       "      </script>\n",
       "    </div>\n",
       "  </div>\n",
       "  "
      ],
      "text/plain": [
       "                                                content              category\n",
       "3305  Inician obras de construcción del nuevo puerto...   region-de-los-lagos\n",
       "1532  Indignación en Argentina por lobo marino que f...                debate\n",
       "4744  Tesorería anuncia plazo límite para pagar cont...           tu-bolsillo\n",
       "2220  Exdirector de Conaf defiende millonarios gasto...           entrevistas\n",
       "2384  Salvini se consagró como líder de la ultradere...                europa\n",
       "1076  Essal asegura que \"no se cumplen los requisito...                 chile\n",
       "4444  Detención en La Pintana permitió la recuperaci...  region-metropolitana\n",
       "3278  Inédita investigación revela existencia de pob...   region-de-los-lagos\n",
       "3470  Aguas de río Rahue que abastecen a comunidad h...   region-de-los-lagos\n",
       "4433  La historia del viralizado currículum escrito ...  region-metropolitana"
      ]
     },
     "execution_count": 11,
     "metadata": {},
     "output_type": "execute_result"
    }
   ],
   "source": [
    "dataset.sample(10)"
   ]
  },
  {
   "cell_type": "markdown",
   "metadata": {
    "id": "SZXjXAIW2RW9"
   },
   "source": [
    "## Holdout\n",
    "\n",
    "Ahora, el procedimiento estándar es dividir nuestros conjuntos en train y test. Este proceso es muy importante y nos permite saber que tan bien está funcionando nuestro modelo con datos que no ha visto.\n",
    "\n",
    "Muchas veces para optimizar los hiperparámetros que componen un modelo se separa el conjunto de datos en tres:\n",
    "\n",
    "- Training set: Datos utilizados para entrenar el modelo.\n",
    "- Development set (o tuning set): Conjunto de datos que nos permite comparar diferentes hiperparámetros que probemos.\n",
    "- Test set: Utilizado para comprobar el desempeño del modelo en data que no se ha visto. Es importante que este conjunto de datos no se utilice durante el ajuste de los hiperparámetros. La práctica ideal sería utilizar este conjunto de datos 1 o 2 veces para no sobre ajustar el modelo.\n",
    "\n",
    "Un factor importante preocuparse de no solapar los conjuntos de datos. El solapamiento de los datos podría generar resultados que no representan el desempeño real del modelo, esto al considerar información repetida tanto en el conjunto de entrenamiento como en los de pruebas.\n"
   ]
  },
  {
   "cell_type": "markdown",
   "metadata": {
    "id": "6YSkeloP2ajw"
   },
   "source": [
    "<center><img src=https://machinelearning101.readthedocs.io/en/latest/_images/0702.png width=\"500\"></center>"
   ]
  },
  {
   "cell_type": "code",
   "execution_count": 12,
   "metadata": {
    "colab": {
     "base_uri": "https://localhost:8080/"
    },
    "id": "InUyyNxNrkd0",
    "outputId": "a56da1c8-fb8d-4d80-ef9f-eeabcc197547"
   },
   "outputs": [
    {
     "name": "stdout",
     "output_type": "stream",
     "text": [
      "Cantidad de noticias en el conjunto de entrenamiento: (3350,)\n",
      "Cantidad de noticias en el conjunto de test: (1650,)\n"
     ]
    }
   ],
   "source": [
    "X_train, X_test, y_train, y_test = train_test_split(dataset.content,\n",
    "                                                    dataset.category,\n",
    "                                                    test_size=0.33,\n",
    "                                                    random_state=42)\n",
    "\n",
    "print(f'Cantidad de noticias en el conjunto de entrenamiento: {X_train.shape}')\n",
    "print(f'Cantidad de noticias en el conjunto de test: {X_test.shape}')"
   ]
  },
  {
   "cell_type": "markdown",
   "metadata": {
    "id": "QRhM0tLkrkd0"
   },
   "source": [
    "### Nuestro primer sistema de clasificación\n",
    "\n",
    "Ahora que tenemos cargado el dataset, podemos implementar nuestro clasificador!\n",
    "\n",
    "Para esto, usaremos 3 herramientas fundamentales de scikit-learn: un `pipeline`, `CountVectorizer` y `MultinomialNB`.\n",
    "\n",
    "#### Pipeline \n",
    "\n",
    "<center><img src=\"https://miro.medium.com/max/1400/1*3CUgNaoTUG3eg_BOFkN-YA.jpeg\" width=\"350\"></center>\n",
    "\n",
    "\n",
    "Un [`pipeline`](https://scikit-learn.org/stable/modules/generated/sklearn.pipeline.Pipeline.html) es la definición de los procesos que llevará a cabo el sistema que creemos. Nos permite tener unificados todos los procesos a la vez que simplifica el código de nuestro sistema. De esta forma, un Pipeline encapsulará una seguidilla de pasos en su modelo, para ejecutarlos secuencialmente.\n",
    "\n",
    "¿Cuales son los beneficios de generar un pipeline? 🤔:\n",
    "\n",
    "1. Encapsula todo el proceso: La creación de un pipeline encapsula todo el preceso de entrenamiento, permitiendo entrenar todo el modelo llamando solo a un fit.\n",
    "2. Selección conjunta de parámetros: Se puede realizar una GridSearch de los parámetros de todos los estimadores del pipeline al mismo tiempo.\n",
    "3. Evita fugas de datos, generando un proceso en el que se evitan errores estadisticos.\n",
    "4. El uso de Pipelines permite que su trabajo sea mucho más reproducible.\n",
    "\n",
    "Para el caso que veremos en esta Auxiliar, el pipeline será:\n",
    "\n",
    "    Dataset -> Bag of Words -> NaiveBayes Clf\n",
    "\n",
    "\n",
    "#### Bag of Words y CountVectorizer 🎒 \n",
    "\n",
    "\n",
    "¿Qué era Bag of Words?\n",
    "\n",
    "Es un modelo en donde transformamos cada una de las oraciones de nuestro dataset en vectores. Cada vector contiene una columna por cada palabra / **token** del vocabulario. Al procesar el dataset, cada oración es mapeada a un vector que cuenta las apariciones de cada una de sus tokens. \n",
    "\n",
    "Referencia: [BoW en wikipedia](https://es.wikipedia.org/wiki/Modelo_bolsa_de_palabras)\n",
    "\n",
    "**Un pequeño ejemplo**\n",
    "\n",
    "Supongamos que nuestro tokenizador solo separa por espacios.\n",
    "\n",
    "    - Doc1 : 'I love dogs'\n",
    "    - Doc2: 'I hate dogs and knitting.\n",
    "    - Doc3: 'Knitting is my hobby and my passion.\n",
    "\n",
    "El bag of words quedaría:\n",
    "\n",
    "\n",
    "|   | I | love | hate | dogs | and | knitting | is | my | hobby |passion |\n",
    "|---|----|-------|------|-------| -------| -------| -------| -------| -------|-------|\n",
    "| Doc1 | 1  |   1   |  0   |   1   |   0    |   0   |   0   |   0   |   0   |   0   |\n",
    "| Doc2 |  1 |   0   |   1  |   1   |   1   |   1   |   0   |   0   |   0   |   0   |\n",
    "| Doc3 |  0 |   0   |  0   |  0    |  1    |   1   |   1   |   2   |  1    |   1   |\n",
    "\n",
    "\n",
    "`CountVectorizer` es la clase de `scikit` que transformará nuestro texto a Bag of Words. Fijense que es tremendamente útil tenerla dentro de un pipeline ya que fija en un comienzo el vocabulario que tendrá el Bag of Words, evitando discordancias entre los vectores del conjunto de entrenamiento y el de prueba."
   ]
  },
  {
   "cell_type": "code",
   "execution_count": 13,
   "metadata": {
    "colab": {
     "base_uri": "https://localhost:8080/",
     "height": 205
    },
    "id": "Pa7GRIzOCWfO",
    "outputId": "5794fa1d-577a-4fbb-a041-6696be2ecef9"
   },
   "outputs": [
    {
     "data": {
      "text/html": [
       "\n",
       "  <div id=\"df-a1a50033-054a-4c7b-923d-fbf434f58c01\">\n",
       "    <div class=\"colab-df-container\">\n",
       "      <div>\n",
       "<style scoped>\n",
       "    .dataframe tbody tr th:only-of-type {\n",
       "        vertical-align: middle;\n",
       "    }\n",
       "\n",
       "    .dataframe tbody tr th {\n",
       "        vertical-align: top;\n",
       "    }\n",
       "\n",
       "    .dataframe thead th {\n",
       "        text-align: right;\n",
       "    }\n",
       "</style>\n",
       "<table border=\"1\" class=\"dataframe\">\n",
       "  <thead>\n",
       "    <tr style=\"text-align: right;\">\n",
       "      <th></th>\n",
       "      <th>abajo</th>\n",
       "      <th>acariciar</th>\n",
       "      <th>acariciar gatitos</th>\n",
       "      <th>acariciar perros</th>\n",
       "      <th>amo</th>\n",
       "      <th>amo mucho</th>\n",
       "      <th>detesto</th>\n",
       "      <th>detesto poco</th>\n",
       "      <th>gatitos</th>\n",
       "      <th>hasta</th>\n",
       "      <th>hasta abajo</th>\n",
       "      <th>mucho</th>\n",
       "      <th>mucho acariciar</th>\n",
       "      <th>mucho mucho</th>\n",
       "      <th>mucho perrear</th>\n",
       "      <th>perrear</th>\n",
       "      <th>perrear hasta</th>\n",
       "      <th>perros</th>\n",
       "      <th>poco</th>\n",
       "      <th>poco acariciar</th>\n",
       "    </tr>\n",
       "  </thead>\n",
       "  <tbody>\n",
       "    <tr>\n",
       "      <th>0</th>\n",
       "      <td>0</td>\n",
       "      <td>1</td>\n",
       "      <td>1</td>\n",
       "      <td>0</td>\n",
       "      <td>1</td>\n",
       "      <td>1</td>\n",
       "      <td>0</td>\n",
       "      <td>0</td>\n",
       "      <td>1</td>\n",
       "      <td>0</td>\n",
       "      <td>0</td>\n",
       "      <td>4</td>\n",
       "      <td>1</td>\n",
       "      <td>3</td>\n",
       "      <td>0</td>\n",
       "      <td>0</td>\n",
       "      <td>0</td>\n",
       "      <td>0</td>\n",
       "      <td>0</td>\n",
       "      <td>0</td>\n",
       "    </tr>\n",
       "    <tr>\n",
       "      <th>1</th>\n",
       "      <td>0</td>\n",
       "      <td>1</td>\n",
       "      <td>0</td>\n",
       "      <td>1</td>\n",
       "      <td>0</td>\n",
       "      <td>0</td>\n",
       "      <td>1</td>\n",
       "      <td>1</td>\n",
       "      <td>0</td>\n",
       "      <td>0</td>\n",
       "      <td>0</td>\n",
       "      <td>0</td>\n",
       "      <td>0</td>\n",
       "      <td>0</td>\n",
       "      <td>0</td>\n",
       "      <td>0</td>\n",
       "      <td>0</td>\n",
       "      <td>1</td>\n",
       "      <td>1</td>\n",
       "      <td>1</td>\n",
       "    </tr>\n",
       "    <tr>\n",
       "      <th>2</th>\n",
       "      <td>1</td>\n",
       "      <td>0</td>\n",
       "      <td>0</td>\n",
       "      <td>0</td>\n",
       "      <td>1</td>\n",
       "      <td>1</td>\n",
       "      <td>0</td>\n",
       "      <td>0</td>\n",
       "      <td>0</td>\n",
       "      <td>1</td>\n",
       "      <td>1</td>\n",
       "      <td>1</td>\n",
       "      <td>0</td>\n",
       "      <td>0</td>\n",
       "      <td>1</td>\n",
       "      <td>1</td>\n",
       "      <td>1</td>\n",
       "      <td>0</td>\n",
       "      <td>0</td>\n",
       "      <td>0</td>\n",
       "    </tr>\n",
       "  </tbody>\n",
       "</table>\n",
       "</div>\n",
       "      <button class=\"colab-df-convert\" onclick=\"convertToInteractive('df-a1a50033-054a-4c7b-923d-fbf434f58c01')\"\n",
       "              title=\"Convert this dataframe to an interactive table.\"\n",
       "              style=\"display:none;\">\n",
       "        \n",
       "  <svg xmlns=\"http://www.w3.org/2000/svg\" height=\"24px\"viewBox=\"0 0 24 24\"\n",
       "       width=\"24px\">\n",
       "    <path d=\"M0 0h24v24H0V0z\" fill=\"none\"/>\n",
       "    <path d=\"M18.56 5.44l.94 2.06.94-2.06 2.06-.94-2.06-.94-.94-2.06-.94 2.06-2.06.94zm-11 1L8.5 8.5l.94-2.06 2.06-.94-2.06-.94L8.5 2.5l-.94 2.06-2.06.94zm10 10l.94 2.06.94-2.06 2.06-.94-2.06-.94-.94-2.06-.94 2.06-2.06.94z\"/><path d=\"M17.41 7.96l-1.37-1.37c-.4-.4-.92-.59-1.43-.59-.52 0-1.04.2-1.43.59L10.3 9.45l-7.72 7.72c-.78.78-.78 2.05 0 2.83L4 21.41c.39.39.9.59 1.41.59.51 0 1.02-.2 1.41-.59l7.78-7.78 2.81-2.81c.8-.78.8-2.07 0-2.86zM5.41 20L4 18.59l7.72-7.72 1.47 1.35L5.41 20z\"/>\n",
       "  </svg>\n",
       "      </button>\n",
       "      \n",
       "  <style>\n",
       "    .colab-df-container {\n",
       "      display:flex;\n",
       "      flex-wrap:wrap;\n",
       "      gap: 12px;\n",
       "    }\n",
       "\n",
       "    .colab-df-convert {\n",
       "      background-color: #E8F0FE;\n",
       "      border: none;\n",
       "      border-radius: 50%;\n",
       "      cursor: pointer;\n",
       "      display: none;\n",
       "      fill: #1967D2;\n",
       "      height: 32px;\n",
       "      padding: 0 0 0 0;\n",
       "      width: 32px;\n",
       "    }\n",
       "\n",
       "    .colab-df-convert:hover {\n",
       "      background-color: #E2EBFA;\n",
       "      box-shadow: 0px 1px 2px rgba(60, 64, 67, 0.3), 0px 1px 3px 1px rgba(60, 64, 67, 0.15);\n",
       "      fill: #174EA6;\n",
       "    }\n",
       "\n",
       "    [theme=dark] .colab-df-convert {\n",
       "      background-color: #3B4455;\n",
       "      fill: #D2E3FC;\n",
       "    }\n",
       "\n",
       "    [theme=dark] .colab-df-convert:hover {\n",
       "      background-color: #434B5C;\n",
       "      box-shadow: 0px 1px 3px 1px rgba(0, 0, 0, 0.15);\n",
       "      filter: drop-shadow(0px 1px 2px rgba(0, 0, 0, 0.3));\n",
       "      fill: #FFFFFF;\n",
       "    }\n",
       "  </style>\n",
       "\n",
       "      <script>\n",
       "        const buttonEl =\n",
       "          document.querySelector('#df-a1a50033-054a-4c7b-923d-fbf434f58c01 button.colab-df-convert');\n",
       "        buttonEl.style.display =\n",
       "          google.colab.kernel.accessAllowed ? 'block' : 'none';\n",
       "\n",
       "        async function convertToInteractive(key) {\n",
       "          const element = document.querySelector('#df-a1a50033-054a-4c7b-923d-fbf434f58c01');\n",
       "          const dataTable =\n",
       "            await google.colab.kernel.invokeFunction('convertToInteractive',\n",
       "                                                     [key], {});\n",
       "          if (!dataTable) return;\n",
       "\n",
       "          const docLinkHtml = 'Like what you see? Visit the ' +\n",
       "            '<a target=\"_blank\" href=https://colab.research.google.com/notebooks/data_table.ipynb>data table notebook</a>'\n",
       "            + ' to learn more about interactive tables.';\n",
       "          element.innerHTML = '';\n",
       "          dataTable['output_type'] = 'display_data';\n",
       "          await google.colab.output.renderOutput(dataTable, element);\n",
       "          const docLink = document.createElement('div');\n",
       "          docLink.innerHTML = docLinkHtml;\n",
       "          element.appendChild(docLink);\n",
       "        }\n",
       "      </script>\n",
       "    </div>\n",
       "  </div>\n",
       "  "
      ],
      "text/plain": [
       "   abajo  acariciar  acariciar gatitos  acariciar perros  amo  amo mucho  \\\n",
       "0      0          1                  1                 0    1          1   \n",
       "1      0          1                  0                 1    0          0   \n",
       "2      1          0                  0                 0    1          1   \n",
       "\n",
       "   detesto  detesto poco  gatitos  hasta  hasta abajo  mucho  mucho acariciar  \\\n",
       "0        0             0        1      0            0      4                1   \n",
       "1        1             1        0      0            0      0                0   \n",
       "2        0             0        0      1            1      1                0   \n",
       "\n",
       "   mucho mucho  mucho perrear  perrear  perrear hasta  perros  poco  \\\n",
       "0            3              0        0              0       0     0   \n",
       "1            0              0        0              0       1     1   \n",
       "2            0              1        1              1       0     0   \n",
       "\n",
       "   poco acariciar  \n",
       "0               0  \n",
       "1               1  \n",
       "2               0  "
      ]
     },
     "execution_count": 13,
     "metadata": {},
     "output_type": "execute_result"
    }
   ],
   "source": [
    "vocab_test = ['acariciar', 'amo', 'detesto', 'gatitos', 'hasta', 'mucho', 'perros', 'poco']\n",
    "\n",
    "# Definimos el vectorizador para convertir el texto a BoW:\n",
    "vectorizer = CountVectorizer(\n",
    "    ngram_range=(1,2),  # Genera 1-gram y 2-gramas\n",
    "    #max_features = 4, # Largo maximo del vector\n",
    "    #vocabulary = vocab_test, # Vocabulario predefinido\n",
    "    #binary = False # conteo binario\n",
    ") \n",
    "\n",
    "documentos = ['amo mucho mucho mucho mucho acariciar gatitos',\n",
    "              'detesto poco acariciar perros',\n",
    "              'amo mucho perrear hasta abajo']\n",
    "\n",
    "conteo_palabras = vectorizer.fit_transform(documentos)\n",
    "pd.DataFrame(conteo_palabras.toarray(), \n",
    "             columns = vectorizer.get_feature_names_out())"
   ]
  },
  {
   "cell_type": "markdown",
   "metadata": {
    "id": "JhEyoSfgCU8G"
   },
   "source": [
    "**Todo espectacular pero... ¿Esto no tiene problemas?:**\n",
    "\n",
    "  Al considerar solamente una bolsa con palabras, ignoramos la semantica y el orden de las palabras. Esto nos quita contexto, perdiendo gran información en los textos.\n",
    "\n",
    "#### **Algoritmo de Naive Bayes**\n",
    "\n",
    "Es uno de los algoritmos más simples y efectivos para la clasificación de texto. Se basa en el teorema de Bayes utilizando una suposición de independencia de los features para poder simplificar el computo. Es así como el nombre se descompone de la siguiente forma:\n",
    "\n",
    "Naive (ingenuo): La presencia de un feature es independiente de la presencia de otro. Ejemplo, asumir que la probabilidad de que una palabra aparezca en un documento no depende de las palabras cercanas. Se dice ingenuo ya que en ejemplos es reales no es correcto asumir esto.\n",
    "\n",
    "Bayes: Proviene del teorema de Bayes.\n",
    "\n",
    "**Teorema de Bayes**\n",
    "\n",
    "En términos generales, la fórmula del teorema es como sigue:\n",
    "\n",
    "$$p(H|D) = \\frac{p(D|H) * p(H)}{p(D)}$$\n",
    "\n",
    "$p(H|D)$: Probabilidad de que la hipótesis H sea cierta dados los datos D.\n",
    "\n",
    "$p(H)$: Probabilidad de que la hipótesis H sea cierta, independiente de los datos. Esto es conocido como probabilidad a priori.\n",
    "\n",
    "$p(D)$: Probabilidad de los datos.\n",
    "\n",
    "$p(D|H)$: Probabilidad de los datos D dado que la hipótesis H era cierta.\n",
    "\n",
    "Luego se busca la hipótesis o clase en nuestro caso que tenga la probabilidad más alta.\n",
    "\n",
    "Vamos a explicar el clásificador de Bayes enfocados en nuestro problema:\n",
    "\n",
    "Escojamos un noticia, por ejemplo $d$ = `'7 tips que necesitas saber para que tus mascotas...'`\n",
    "\n",
    "Y nuestro conjunto de clases $C$=`{america-latina, eeuu, chile, ..., virales, animales}`\n",
    "\n",
    "Podemos usar el teorema de bayes para calcular la probabilidad de que una noticia pertenezca a una de nuestras clases como:\n",
    "\n",
    "$$p( c_i | d) = \\frac{p(d | c_i) * p(c_i)}{p(d)}$$\n",
    "\n",
    "Lo que puede ser escrito en nuestro ejemplo como: \n",
    "\n",
    "\n",
    "p( `america-latina` | `7 tips...`) = p( `7 tips...` | `america-latina`) * p(`america-latina`) /  p(`7 tips...`)\n",
    "\n",
    "**Clasificación**\n",
    "\n",
    "\n",
    "Por lo tanto, la clase de cada noticia quedará representada simplemente como la máxima probabilidad que obtengamos al calcular bayes para todas las clases $c_i$, lo que puede ser representado como un argmax:\n",
    "\n",
    "$$\\underset{c_i \\in C}{\\operatorname{argmax}} \\:\\: p(c_i|d)$$\n",
    "\n",
    "Ahora, despejemos un poco la ecuación:\n",
    "\n",
    "1. Primero, veamos el denominador p(d) no nos entrega nada de información ya que se calcula contando la cantidad de apariciones de esa noticia d dividido en el total, pero como todas las noticias son distintas entonces la probabilidad será siempre la misma.\n",
    "\n",
    "$$\\underset{c_i \\in C}{\\operatorname{argmax}} \\:\\: p(c_i|d) = \\underset{c_i \\in C}{\\operatorname{argmax}} \\:\\: \\dfrac{p(d|c_i)p(c)}{p(d)} = \\underset{c_i \\in C}{\\operatorname{argmax}} \\:\\: p(d | c_i) * p(c_i)$$\n",
    "\n",
    "2. Por otra parte, $p(c_i)$ es la cantidad de veces que encontramos la clase $c_i$ en nuestro conjunto de datos, pero como nuestras clases están balanceadas, $p(c_i) = 250/250*20 = 1 / 20$ para todas las clases. Nota que este balance no siempre ocurre así que dejaremos por ahora ese término dentro de nuestra ecuación.\n",
    "\n",
    "Ahora ¿Cómo calculamos $p(d | c_i)$?:\n",
    "\n",
    "1. Primero, separamos el documento por tokens. Menos mal que ya lo habíamos hecho conviertiendo nuestros documentos BoW...\n",
    "\n",
    "$$p(d | c_i) = p(x_1, x_2, x_n | c_i)$$\n",
    "\n",
    "2. Ahora, asumimos que las probabilidades de que cada una de las palabras pertenezca a la clase c_i es independiente de cualquier otra, es decir: \n",
    "\n",
    "$$ p(x_1, x_2, x_n | c_i) = p(x_1 | c_i) * p(x_2 | c_i) * ... * p(x_n | c_i)$$\n",
    "\n",
    "Observen que ahora, dado que asumimos esto, el orden de las palabras no importa. Otro punto mas a favor de usar BoW.\n",
    "\n",
    "**Entrenamiento 🥋**\n",
    "\n",
    "Y aquí viene la parte del entrenamiento del modelo: para calcular $p(x | c_i)$ simplemente contamos la cantidad de veces que aparece esa palabra en los documentos de entrenamiento de la clase $c_i$. O sea:\n",
    "\n",
    "$$p(x | c_i) = \\frac{count(x_j, c_i)}{\\sum_{x_j \\in Vocab} count(x, c_i)}$$\n",
    "\n",
    "Juntando lo anterior, nuestro problema ahora se transforma a :\n",
    "\n",
    "$$c = \\underset{c_i \\in C}{\\operatorname{argmax}} \\:\\: p(c_i) * \\prod_{x_j \\in d} P(x_j | c_i)$$\n",
    "\n",
    "\n",
    "\n",
    "Sin embargo, estas probabilidades son muy pero muy pequeñas cuando tenemos vectores Bag of Words muy grandes. Imagínense un vocabulario de 100.000 palabras. Además, multiplicar es muy complicado ❌😥\n",
    "\n",
    "Así que convertimos nuestra multiplicatoria en una suma de logaritmos!\n",
    "\n",
    "$$ c = \\underset{c_i \\in C}{\\operatorname{argmax}} \\:\\:  log(p(c_i)) + \\sum_{x_i \\in d} log(p(x_i | c_i))$$\n",
    "\n",
    "\n",
    "\n",
    "Y con eso, ya tenemos definido como va a funcionar nuestro clasificador. Si bien, existen muchos mas clasificadores, este ya es lo suficientemente potente como para lograr muy buenos resultados.\n",
    "\n",
    "**Bkn... ¿pero si quisiera calcular la probabilidad la probabilidad que tiene un documento de ser de la clase $i$? 🙄**\n",
    "\n",
    "Para calcular la probabilidad debemos obtener $P(d)$ del problema, el que se define como:\n",
    "\n",
    "$$p(d) = \\sum_{c_i \\in C} p(d|c_i)p(c_i) = \\sum_{c_i \\in C} p(x_1,x_2, ..., x_n|c_i)*p(c_i)$$\n",
    "$$= \\sum_{c_i \\in C} (p(x_1|c_i)*p(x_2|c_i)*...*p(x_n|c_i)*p(c_i))$$\n",
    "$$= \\sum_{c_i \\in C} (\\prod_{x_j \\in d} p(x_j|c_i)*p(c_i))$$\n",
    "\n",
    "De lo anterior, el contenido de la sumatoria es conocido, por lo que nos quedaría sumar solamente todos los valores para cada una de las clases."
   ]
  },
  {
   "cell_type": "markdown",
   "metadata": {
    "id": "GKwiELg0k229"
   },
   "source": [
    "## Smoothing 🧈 (smooth like butter..)\n",
    "\n",
    "Imaginemos que entrenamos un conjunto de datos utilizando el modelo de Naive Bayes, ¿Qué sucede si las palabras a predecir no se encuentran en el vocabulario de entrenamiento?, La respuesta directa a la pregunta señalada es que si no modificamos el modelo, este, entregará una probabilidad ($p(x | c_i)$) igual a 0 para dicha palabra, ya qué le sería imposible determinar una clase.\n",
    "\n",
    "Una solución a esta indeseable situación es utilizar **Laplace Smoothing**, quien suaviza las probabilidades agregandole un \"seudo-conteo\" $\\alpha$ a cada uno de los conteos, y luego los normaliza. \n",
    "\n",
    "$$p(x | c_i)=\\dfrac{\\alpha + count(x, c_i)}{V\\alpha + \\sum_{i=1}^V count(x, c_i)}$$\n",
    "\n",
    "Utilizar Laplace Smoothing reducirá la varianza vista por la imposibilidad de clasificación, pero nos aleja del estimador provocando un sesgo en la predicción 😡. Hay que recordar que:\n",
    "\n",
    "- Clasificadores insesgados (en general con alta varianza) podrian sobreajustar los datos de entrenamiento.\n",
    "- Si el suavizado es muy grando (o sea el alfa), se podra genera un underfit en el entrenamiento.\n"
   ]
  },
  {
   "cell_type": "markdown",
   "metadata": {
    "id": "YjX1htP7spGk"
   },
   "source": [
    "**Discusión:**"
   ]
  },
  {
   "cell_type": "markdown",
   "metadata": {
    "id": "liCWrwgto4fB"
   },
   "source": [
    "    ¿ Comó podriamos escoger el mejor alpha para el modelo de Naive Bayes? "
   ]
  },
  {
   "cell_type": "markdown",
   "metadata": {
    "id": "ExugvjNvz0ie"
   },
   "source": [
    "## ¿Entonces como podría programar Naive? (Resumen)\n",
    "\n",
    "1. Generar un vocabulario basado en el corpus de entrenamiento.\n",
    "2. La etapa de `fit` vendra dada por el calculo de $P(c_i)$ y $P(w_j|c_i)$ en base al corpus de entrenamiento.\n",
    "3. Para la etapa `predict` tendremos que simplemente calcular la probabilidades de los documentos no vistos en base a los de entrenamiento, para luego a traves de argmax determinar a que clase pertenece."
   ]
  },
  {
   "cell_type": "markdown",
   "metadata": {
    "id": "XjBUEtZ5AJsA"
   },
   "source": [
    "![Sin título.png](data:image/png;base64,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)"
   ]
  },
  {
   "cell_type": "markdown",
   "metadata": {
    "id": "DCqJ12Re5IOH"
   },
   "source": [
    "Notar que la probabilidad para los casos de ejemplo vendrian dada por:\n",
    "\n",
    "$$P(c|d5) = \\dfrac{0.0003}{0.003+0.0001} = 0.75$$\n",
    "\n",
    "$$P(j|d5) = \\dfrac{0.0001}{0.003+0.0001} = 0.25$$"
   ]
  },
  {
   "cell_type": "markdown",
   "metadata": {
    "id": "0mCDQ5Z6rkd6"
   },
   "source": [
    "------------------------\n",
    "#### Creemos el clasificador 🧪\n",
    "\n",
    "**Primero, definimos el pipeline**"
   ]
  },
  {
   "cell_type": "code",
   "execution_count": 14,
   "metadata": {
    "id": "6loqGVpqrkd_"
   },
   "outputs": [],
   "source": [
    "# Definimos el vectorizador para convertir el texto a BoW:\n",
    "vectorizer = CountVectorizer()  \n",
    "\n",
    "# Definimos el clasificador que usaremos.\n",
    "clf = MultinomialNB()   \n",
    "\n",
    "# Creamos el pipeline\n",
    "text_clf = Pipeline([('vect', vectorizer), # Paso 1 del pipeline\n",
    "                     ('clf', clf)]         # Paso 2 del pipeline\n",
    "                    )"
   ]
  },
  {
   "cell_type": "markdown",
   "metadata": {
    "id": "U6LqIwmBrkeA"
   },
   "source": [
    "**Luego, lo entrenamos**"
   ]
  },
  {
   "cell_type": "code",
   "execution_count": 41,
   "metadata": {
    "colab": {
     "base_uri": "https://localhost:8080/"
    },
    "id": "cyjQZflHI4pJ",
    "outputId": "a6f5bd64-8b8c-4e2f-cf08-0fde8dc21e89"
   },
   "outputs": [
    {
     "data": {
      "text/plain": [
       "1522    5 tristes ejemplos que muestran lo grave que s...\n",
       "835     Cancillería informa que de momento no hay víct...\n",
       "358     Senado argentino inicia discusión en comisione...\n",
       "138     Empresarios por bajo Imacec: \"No hay que habla...\n",
       "299     EEUU elogia postura de Bolsonaro sobre program...\n",
       "                              ...                        \n",
       "4426    CPLT llama a \"modernización de la ley\" tras ci...\n",
       "466     Opositores en Nicaragua alistan nuevas protest...\n",
       "3092    PDI indaga ataque armado en Lautaro: encapucha...\n",
       "3772    Vecinas de Quintero-Puchuncaví por indagación ...\n",
       "860     Irán calificó como \"ilegales\" sanciones de EEU...\n",
       "Name: content, Length: 3350, dtype: object"
      ]
     },
     "execution_count": 41,
     "metadata": {},
     "output_type": "execute_result"
    }
   ],
   "source": [
    "X_train"
   ]
  },
  {
   "cell_type": "code",
   "execution_count": 15,
   "metadata": {
    "colab": {
     "base_uri": "https://localhost:8080/"
    },
    "id": "2m-rXq7_rkeA",
    "outputId": "d7b8243e-5002-4aa6-abed-3e2c7e3668ec"
   },
   "outputs": [
    {
     "data": {
      "text/plain": [
       "Pipeline(steps=[('vect', CountVectorizer()), ('clf', MultinomialNB())])"
      ]
     },
     "execution_count": 15,
     "metadata": {},
     "output_type": "execute_result"
    }
   ],
   "source": [
    "# Entrenamos nuestro pipeline\n",
    "text_clf.fit(X_train, y_train)"
   ]
  },
  {
   "cell_type": "markdown",
   "metadata": {
    "id": "hxdKtqVtrkeB"
   },
   "source": [
    "**Y predecimos**"
   ]
  },
  {
   "cell_type": "code",
   "execution_count": 16,
   "metadata": {
    "id": "NWCI1cL3rkeB"
   },
   "outputs": [],
   "source": [
    "y_pred = text_clf.predict(X_test)"
   ]
  },
  {
   "cell_type": "markdown",
   "metadata": {
    "id": "6Ac9ijg-rkeB"
   },
   "source": [
    "**Veamos como nos fue:**\n"
   ]
  },
  {
   "cell_type": "code",
   "execution_count": 17,
   "metadata": {
    "colab": {
     "base_uri": "https://localhost:8080/",
     "height": 206
    },
    "id": "Fmc-Dd3VrkeC",
    "outputId": "ffea50cc-6bee-4155-dbcb-d2dd5d203ec0"
   },
   "outputs": [
    {
     "data": {
      "text/html": [
       "\n",
       "  <div id=\"df-6c5dbab1-b13c-4420-8df7-9c49025cc29b\">\n",
       "    <div class=\"colab-df-container\">\n",
       "      <div>\n",
       "<style scoped>\n",
       "    .dataframe tbody tr th:only-of-type {\n",
       "        vertical-align: middle;\n",
       "    }\n",
       "\n",
       "    .dataframe tbody tr th {\n",
       "        vertical-align: top;\n",
       "    }\n",
       "\n",
       "    .dataframe thead th {\n",
       "        text-align: right;\n",
       "    }\n",
       "</style>\n",
       "<table border=\"1\" class=\"dataframe\">\n",
       "  <thead>\n",
       "    <tr style=\"text-align: right;\">\n",
       "      <th></th>\n",
       "      <th>content</th>\n",
       "      <th>category</th>\n",
       "      <th>predicted category</th>\n",
       "    </tr>\n",
       "  </thead>\n",
       "  <tbody>\n",
       "    <tr>\n",
       "      <th>756</th>\n",
       "      <td>Errores en Indonesia: Agencia de Catástrofes d...</td>\n",
       "      <td>asia</td>\n",
       "      <td>asia</td>\n",
       "    </tr>\n",
       "    <tr>\n",
       "      <th>328</th>\n",
       "      <td>Excomandante de la aviación cercano a Chávez d...</td>\n",
       "      <td>america-latina</td>\n",
       "      <td>america-latina</td>\n",
       "    </tr>\n",
       "    <tr>\n",
       "      <th>3928</th>\n",
       "      <td>Incendio deja tres viviendas completamente des...</td>\n",
       "      <td>region-de-valparaiso</td>\n",
       "      <td>region-de-valparaiso</td>\n",
       "    </tr>\n",
       "    <tr>\n",
       "      <th>1047</th>\n",
       "      <td>Fraude en el Ejército: SML revisará si dueña d...</td>\n",
       "      <td>chile</td>\n",
       "      <td>chile</td>\n",
       "    </tr>\n",
       "    <tr>\n",
       "      <th>2399</th>\n",
       "      <td>Francia anuncia investigación nacional tras el...</td>\n",
       "      <td>europa</td>\n",
       "      <td>mediooriente</td>\n",
       "    </tr>\n",
       "  </tbody>\n",
       "</table>\n",
       "</div>\n",
       "      <button class=\"colab-df-convert\" onclick=\"convertToInteractive('df-6c5dbab1-b13c-4420-8df7-9c49025cc29b')\"\n",
       "              title=\"Convert this dataframe to an interactive table.\"\n",
       "              style=\"display:none;\">\n",
       "        \n",
       "  <svg xmlns=\"http://www.w3.org/2000/svg\" height=\"24px\"viewBox=\"0 0 24 24\"\n",
       "       width=\"24px\">\n",
       "    <path d=\"M0 0h24v24H0V0z\" fill=\"none\"/>\n",
       "    <path d=\"M18.56 5.44l.94 2.06.94-2.06 2.06-.94-2.06-.94-.94-2.06-.94 2.06-2.06.94zm-11 1L8.5 8.5l.94-2.06 2.06-.94-2.06-.94L8.5 2.5l-.94 2.06-2.06.94zm10 10l.94 2.06.94-2.06 2.06-.94-2.06-.94-.94-2.06-.94 2.06-2.06.94z\"/><path d=\"M17.41 7.96l-1.37-1.37c-.4-.4-.92-.59-1.43-.59-.52 0-1.04.2-1.43.59L10.3 9.45l-7.72 7.72c-.78.78-.78 2.05 0 2.83L4 21.41c.39.39.9.59 1.41.59.51 0 1.02-.2 1.41-.59l7.78-7.78 2.81-2.81c.8-.78.8-2.07 0-2.86zM5.41 20L4 18.59l7.72-7.72 1.47 1.35L5.41 20z\"/>\n",
       "  </svg>\n",
       "      </button>\n",
       "      \n",
       "  <style>\n",
       "    .colab-df-container {\n",
       "      display:flex;\n",
       "      flex-wrap:wrap;\n",
       "      gap: 12px;\n",
       "    }\n",
       "\n",
       "    .colab-df-convert {\n",
       "      background-color: #E8F0FE;\n",
       "      border: none;\n",
       "      border-radius: 50%;\n",
       "      cursor: pointer;\n",
       "      display: none;\n",
       "      fill: #1967D2;\n",
       "      height: 32px;\n",
       "      padding: 0 0 0 0;\n",
       "      width: 32px;\n",
       "    }\n",
       "\n",
       "    .colab-df-convert:hover {\n",
       "      background-color: #E2EBFA;\n",
       "      box-shadow: 0px 1px 2px rgba(60, 64, 67, 0.3), 0px 1px 3px 1px rgba(60, 64, 67, 0.15);\n",
       "      fill: #174EA6;\n",
       "    }\n",
       "\n",
       "    [theme=dark] .colab-df-convert {\n",
       "      background-color: #3B4455;\n",
       "      fill: #D2E3FC;\n",
       "    }\n",
       "\n",
       "    [theme=dark] .colab-df-convert:hover {\n",
       "      background-color: #434B5C;\n",
       "      box-shadow: 0px 1px 3px 1px rgba(0, 0, 0, 0.15);\n",
       "      filter: drop-shadow(0px 1px 2px rgba(0, 0, 0, 0.3));\n",
       "      fill: #FFFFFF;\n",
       "    }\n",
       "  </style>\n",
       "\n",
       "      <script>\n",
       "        const buttonEl =\n",
       "          document.querySelector('#df-6c5dbab1-b13c-4420-8df7-9c49025cc29b button.colab-df-convert');\n",
       "        buttonEl.style.display =\n",
       "          google.colab.kernel.accessAllowed ? 'block' : 'none';\n",
       "\n",
       "        async function convertToInteractive(key) {\n",
       "          const element = document.querySelector('#df-6c5dbab1-b13c-4420-8df7-9c49025cc29b');\n",
       "          const dataTable =\n",
       "            await google.colab.kernel.invokeFunction('convertToInteractive',\n",
       "                                                     [key], {});\n",
       "          if (!dataTable) return;\n",
       "\n",
       "          const docLinkHtml = 'Like what you see? Visit the ' +\n",
       "            '<a target=\"_blank\" href=https://colab.research.google.com/notebooks/data_table.ipynb>data table notebook</a>'\n",
       "            + ' to learn more about interactive tables.';\n",
       "          element.innerHTML = '';\n",
       "          dataTable['output_type'] = 'display_data';\n",
       "          await google.colab.output.renderOutput(dataTable, element);\n",
       "          const docLink = document.createElement('div');\n",
       "          docLink.innerHTML = docLinkHtml;\n",
       "          element.appendChild(docLink);\n",
       "        }\n",
       "      </script>\n",
       "    </div>\n",
       "  </div>\n",
       "  "
      ],
      "text/plain": [
       "                                                content              category  \\\n",
       "756   Errores en Indonesia: Agencia de Catástrofes d...                  asia   \n",
       "328   Excomandante de la aviación cercano a Chávez d...        america-latina   \n",
       "3928  Incendio deja tres viviendas completamente des...  region-de-valparaiso   \n",
       "1047  Fraude en el Ejército: SML revisará si dueña d...                 chile   \n",
       "2399  Francia anuncia investigación nacional tras el...                europa   \n",
       "\n",
       "        predicted category  \n",
       "756                   asia  \n",
       "328         america-latina  \n",
       "3928  region-de-valparaiso  \n",
       "1047                 chile  \n",
       "2399          mediooriente  "
      ]
     },
     "execution_count": 17,
     "metadata": {},
     "output_type": "execute_result"
    }
   ],
   "source": [
    "# algunos ejemplos:\n",
    "pd.DataFrame({'content': X_test, 'category':y_test, 'predicted category': y_pred}).sample(5)"
   ]
  },
  {
   "cell_type": "code",
   "execution_count": 18,
   "metadata": {
    "colab": {
     "base_uri": "https://localhost:8080/"
    },
    "id": "RXZ9RX2krkeC",
    "outputId": "1368f8c9-fe07-43fd-9991-38f4657fcc35"
   },
   "outputs": [
    {
     "name": "stdout",
     "output_type": "stream",
     "text": [
      "[[68  1  0  0  7  1  1  0  1  1  0 10  0  0  0  0  0  0  4  0]\n",
      " [ 0 70  2  5  0  2  4  2  0  0  0  0  0  0  0  0  0  0  0  0]\n",
      " [ 0  1 59  6  0 11  2  0  0  1  0  0  0  0  0  0  0  0  0 10]\n",
      " [ 0  1  1 54  0  2  4  3  0  2  4  0  0  0  0  0  0  0  0  1]\n",
      " [ 3  7  0  0 59  2  4  0 11  1  1  0  1  0  0  0  4  2  1  0]\n",
      " [ 1  1  1  4  0 54  7  1  0  0  1  0  0  0  0  0  0  0  0  7]\n",
      " [ 0  2  3  2  0 27 41  4  0  4  1  0  0  0  0  0  0  0  0  8]\n",
      " [ 0  5  0  4  0  3  3 51  0  0 11  0  0  0  0  0  0  0  0  0]\n",
      " [ 0  1  0  0  0  2  0  0 73  0  1  1  0  0  0  0  0  2  2  0]\n",
      " [ 1  3  0  7  0  4  1  2  0 63  4  0  0  0  0  0  0  0  0  0]\n",
      " [ 0  1  0  3  0  0  2  2  0  2 67  0  0  0  0  0  0  0  0  0]\n",
      " [12  0  0  2  7  7  1  1  1  0  0 42  0  0  0  0  0  0 10  0]\n",
      " [ 1  4  1  0 11  2  1  0  1  0  0  2 36  5  2  2  6 10  3  0]\n",
      " [ 3  1  0  0  2  1  0  0  0  0  0  2  0 58  2  0  1  3  0  0]\n",
      " [ 0  0  0  0  3  1  2  0  1  0  0  3  0  6 54  0  3  6  1  0]\n",
      " [ 2  1  0  0  6  3  0  0  0  0  0  2  0  5  0 47  3 15  1  0]\n",
      " [ 2  0  0  1  2  4  1  0  0  0  0  3  1  3  1  0 46  8  0  0]\n",
      " [ 0  1  0  0  6  2  4  0  2  0  0  3  0  1  1  0  1 56  0  1]\n",
      " [ 9  0  0  0  3  0  1  0  0  0  0  8  0  0  0  0  0  0 59  1]\n",
      " [ 0  0  2  2  0 31 17  0  0  0  0  0  0  0  0  0  0  0  0 32]]\n"
     ]
    }
   ],
   "source": [
    "# usando la matriz de confusión:\n",
    "\n",
    "# eje x -> predichos\n",
    "# eje y -> clase real\n",
    "\n",
    "# 0 -> ee uu\n",
    "# 1 -> animales\n",
    "print(confusion_matrix(y_test, y_pred))"
   ]
  },
  {
   "cell_type": "markdown",
   "metadata": {
    "id": "fdAoGQ9yrkeD"
   },
   "source": [
    "#### Métricas de Evaluación\n",
    "\n",
    "Las métricas definen un puntaje de evaluación que indica que tal le fue al sistema. Hay muchas formas distintas de medir su rendimiento. Entre estas, tenemos:\n",
    "\n",
    "- `precision`: El número de documentos de una clase clasificados correctamente dividido por el número de documentos totales clasificados como esa clase. Precision es una buena medida para determinar, cuando los costes de los falsos positivos son altos.\n",
    "\n",
    "- `recall`: El número de documentos de una clase clasificados correctamente dividido por el número de los documentos que se deberían haber clasificado como esa clase (número de documentos reales de esa clase). Lo utilizamos cuando tiene un alto coste la detección falsos negativos.\n",
    "\n",
    "- `f1-score` : Es la media armónica entre los anteriores.\n",
    "\n",
    "- `accuracy` : La cantidad de documentos clasificados correctamente versus todos los documentos\n",
    "\n",
    "Por otra parte, tenemos dos formas de ver dichas métricas agrupadas:\n",
    "\n",
    "- `Macroaveraging`:    Se computan las métricas por cada clase y luego de promedia.\n",
    "\n",
    "- `Microaveraging`:    Se recolectan las clasificaciones por cada clase, se computa la tabla de contingencia (todos los elementos clasificados) y se evalua. Representa un Macroaveraging ponderado por el número de miembros de una clase."
   ]
  },
  {
   "cell_type": "code",
   "execution_count": 19,
   "metadata": {
    "colab": {
     "base_uri": "https://localhost:8080/"
    },
    "id": "XNjDjAvmrkeE",
    "outputId": "23c0f184-b598-4372-b02b-17e9644ae508"
   },
   "outputs": [
    {
     "name": "stdout",
     "output_type": "stream",
     "text": [
      "                        precision    recall  f1-score   support\n",
      "\n",
      "  actualidad-economica       0.67      0.72      0.69        94\n",
      "        america-latina       0.70      0.82      0.76        85\n",
      "              animales       0.86      0.66      0.74        90\n",
      "                  asia       0.60      0.75      0.67        72\n",
      "                 chile       0.56      0.61      0.58        96\n",
      "          curiosidades       0.34      0.70      0.46        77\n",
      "                debate       0.43      0.45      0.44        92\n",
      "                  eeuu       0.77      0.66      0.71        77\n",
      "           entrevistas       0.81      0.89      0.85        82\n",
      "                europa       0.85      0.74      0.79        85\n",
      "          mediooriente       0.74      0.87      0.80        77\n",
      "   negocios-y-empresas       0.55      0.51      0.53        83\n",
      "region-de-la-araucania       0.95      0.41      0.58        87\n",
      "   region-de-los-lagos       0.74      0.79      0.77        73\n",
      "    region-de-los-rios       0.90      0.68      0.77        80\n",
      "  region-de-valparaiso       0.96      0.55      0.70        85\n",
      "    region-del-bio-bio       0.72      0.64      0.68        72\n",
      "  region-metropolitana       0.55      0.72      0.62        78\n",
      "           tu-bolsillo       0.73      0.73      0.73        81\n",
      "                 viral       0.53      0.38      0.44        84\n",
      "\n",
      "              accuracy                           0.66      1650\n",
      "             macro avg       0.70      0.66      0.67      1650\n",
      "          weighted avg       0.70      0.66      0.66      1650\n",
      "\n"
     ]
    }
   ],
   "source": [
    "# usando el classification report:\n",
    "print(classification_report(y_test, y_pred))"
   ]
  },
  {
   "cell_type": "markdown",
   "metadata": {
    "id": "oWt5ndUPrkeE"
   },
   "source": [
    "#### Ejecutemos algunas consultas!"
   ]
  },
  {
   "cell_type": "code",
   "execution_count": 20,
   "metadata": {
    "colab": {
     "base_uri": "https://localhost:8080/"
    },
    "id": "wzpVP5RvrkeF",
    "outputId": "39a7dfec-e555-431a-8d68-b3a8db6706a7"
   },
   "outputs": [
    {
     "data": {
      "text/plain": [
       "array(['region-de-los-lagos'], dtype='<U22')"
      ]
     },
     "execution_count": 20,
     "metadata": {},
     "output_type": "execute_result"
    }
   ],
   "source": [
    "text_clf.predict([\n",
    "    (\"En puerto montt se encontró un perrito, que aparentemente,\"\n",
    "    \"habría consumido drogas de alto calibre. Producto de esto,\"\n",
    "    \"se ponostíca que padecerá severa caña durante varios dias.\")\n",
    "])"
   ]
  },
  {
   "cell_type": "code",
   "execution_count": 21,
   "metadata": {
    "colab": {
     "base_uri": "https://localhost:8080/"
    },
    "id": "2vae7c2JrkeF",
    "outputId": "87184042-62ee-4fe0-8cbf-c5a0df8ee744"
   },
   "outputs": [
    {
     "data": {
      "text/plain": [
       "array(['asia'], dtype='<U22')"
      ]
     },
     "execution_count": 21,
     "metadata": {},
     "output_type": "execute_result"
    }
   ],
   "source": [
    "text_clf.predict([\"kim jong un será el próximo candidato a ministro de educación.\"])"
   ]
  },
  {
   "cell_type": "code",
   "execution_count": 22,
   "metadata": {
    "colab": {
     "base_uri": "https://localhost:8080/"
    },
    "id": "Wc8hA-BorkeG",
    "outputId": "432e0684-470e-487a-baff-fdd5838e9f8f"
   },
   "outputs": [
    {
     "data": {
      "text/plain": [
       "array(['actualidad-economica'], dtype='<U22')"
      ]
     },
     "execution_count": 22,
     "metadata": {},
     "output_type": "execute_result"
    }
   ],
   "source": [
    "text_clf.predict([(\"El banco mundial presentó para chile un decrecimiento\"\n",
    "                   \"económico de 92% y una inflación de 8239832983289%.\")])"
   ]
  },
  {
   "cell_type": "markdown",
   "metadata": {
    "id": "CxWWxigmrkeG"
   },
   "source": [
    "-------------------------\n",
    "\n",
    "Se ven bastante buenos los resultados. ¿Pero, podremos mejorarlos?\n",
    "\n",
    "### Preprocesamiento del texto\n",
    "\n",
    "En clases vimos que habían varias técnicas que permiter preprocesar los textos.\n",
    "Es decir, cómo hacemos el proceso de tokenización (separación de las palabras).\n",
    "\n",
    "\n",
    "\n",
    "Alguna de las técnicas son:\n",
    "\n",
    "\n",
    "- Eliminación de Stopwords\n",
    "- Stemming\n",
    "- Lematización\n",
    "\n",
    "Existen otros preprocesadores que agregan información a las oraciones, tales como aquellos que indican negaciones.\n",
    "\n",
    "A continuación, describiremos con mas detalle cada uno de estas técnicas."
   ]
  },
  {
   "cell_type": "markdown",
   "metadata": {
    "id": "_t7k2LtLrkeH"
   },
   "source": [
    "#### Tokenizar ➗\n",
    "\n",
    "¿Qué era tokenizar?\n",
    "\n",
    "\n",
    "Es el proceso de convertir una secuencia de carácteres (por ejemplo, una oración) en una secuencia de valores distintos entre si llamados tokens.\n",
    "    \n",
    "Referencia: [Tokenización en wikipedia](https://en.wikipedia.org/wiki/Lexical_analysis#Tokenization)\n",
    "\n"
   ]
  },
  {
   "cell_type": "markdown",
   "metadata": {
    "id": "5MB7iruvrkeH"
   },
   "source": [
    "**spaCy y el objeto nlp**\n",
    "\n",
    "`nlp` es el objeto que nos permite usar e interactuar con la librería [`spacy`](https://spacy.io/).\n",
    "Esta librería incluye variadas herramientras, tales como tokenizar, lematizar, descartar stopwords, entre otras (para este auxiliar, solo utilizaremos las mencionadas). El objeto nlp lo instanciamos en la sección de imports.\n",
    "\n",
    "Para usarla, simplemente se le pasa el texto como parámetro, como veremos en el siguiente ejemplo: "
   ]
  },
  {
   "cell_type": "code",
   "execution_count": 23,
   "metadata": {
    "colab": {
     "base_uri": "https://localhost:8080/"
    },
    "id": "oAdHTA7grkeI",
    "outputId": "1f4fde36-e5db-4239-dd3e-9daa62172b2f",
    "scrolled": true
   },
   "outputs": [
    {
     "data": {
      "text/plain": [
       "[hermanito, mio, te, estay, pegando, el, manso, show]"
      ]
     },
     "execution_count": 23,
     "metadata": {},
     "output_type": "execute_result"
    }
   ],
   "source": [
    "DOC = \"hermanito mio te estay pegando el manso show\"\n",
    "\n",
    "tokens = []\n",
    "for word in nlp(DOC):\n",
    "    tokens.append(word)\n",
    "\n",
    "tokens"
   ]
  },
  {
   "cell_type": "markdown",
   "metadata": {
    "id": "Oe_7FQX4rkeJ"
   },
   "source": [
    "**Observación**: Para este auxiliar usaremos `List Comprehension`, otra forma de hacer un for un poco mas reducida.\n",
    "Una muy buena referencia de esto [aquí](https://www.programiz.com/python-programming/list-comprehension).\n",
    "\n",
    "La operación anterior usando esta sintáxis quedaría como:"
   ]
  },
  {
   "cell_type": "code",
   "execution_count": 24,
   "metadata": {
    "colab": {
     "base_uri": "https://localhost:8080/"
    },
    "id": "Slg2gqvrrkeK",
    "outputId": "d08ea073-ed54-47a1-921b-e3af4ea4d10e"
   },
   "outputs": [
    {
     "data": {
      "text/plain": [
       "[hermanito, mio, te, estay, pegando, el, manso, show]"
      ]
     },
     "execution_count": 24,
     "metadata": {},
     "output_type": "execute_result"
    }
   ],
   "source": [
    "tokens = [word for word in nlp(DOC)]\n",
    "tokens"
   ]
  },
  {
   "cell_type": "markdown",
   "metadata": {
    "id": "0tc790jrrkeK"
   },
   "source": [
    "#### Stopwords 🛑\n",
    "\n",
    "¿Qué eran las stopwords?\n",
    "\n",
    "Las Stopwords son palabras muy comunes en nuestro lenguaje y que por lo tanto, no aportan mucha información. Existen múltiples listas de stopwords para muchos idiomas y la aplicación de estas variará caso a caso.\n",
    "\n",
    "    \n",
    "Referencias: [Stopwords en Wikipedia](https://en.wikipedia.org/wiki/Stop_words)\n",
    "\n",
    "En este caso, utilizaremos las stopwords inlcuidas en la librería spaCy en español"
   ]
  },
  {
   "cell_type": "code",
   "execution_count": 25,
   "metadata": {
    "colab": {
     "base_uri": "https://localhost:8080/"
    },
    "id": "Q2HLwvmyrkeL",
    "outputId": "faa67409-df50-4bb5-bbd8-59ce6513ef89"
   },
   "outputs": [
    {
     "name": "stdout",
     "output_type": "stream",
     "text": [
      "551\n",
      "['explicó', 'cinco', 'cuatro', 'temprano', 'podrán', 'podriais', 'primeros', 'teneis', 'mismo', 'esos', 'va', 'dias', 'van', 'sus', 'conseguir', 'dijeron', 'próximos', 'hacemos', 'esas', 'propias']\n"
     ]
    }
   ],
   "source": [
    "print(len(STOP_WORDS))\n",
    "print(list(STOP_WORDS)[0:20])"
   ]
  },
  {
   "cell_type": "markdown",
   "metadata": {
    "id": "0X2-r-ZDrkeM"
   },
   "source": [
    "#### Stemming 🔪\n",
    "\n",
    "¿Qué era el stemming? \n",
    "\n",
    "Son un conjunto de métodos enfocados en reducir cada palabra a su raiz. De cierta manera se parece a la lematización, pero los resultados (las raíces) no tienen por qué ser palabras de un idioma.\n",
    "\n",
    "Referencia: [Stemming en Wikipedia](https://en.wikipedia.org/wiki/Stemming)\n",
    "  \n",
    "**Ejemplos: **\n",
    "\n",
    "\n",
    "| word | stem of the word  |\n",
    "|---|---|\n",
    "working | work\n",
    "worked | work\n",
    "works | work\n",
    "\n",
    "**nltk**\n",
    "\n",
    "En este caso, utilizaremos la segunda librería de herramientas de nlp: [`nltk`](https://www.nltk.org/). Esta provee una buena herramienta para hacer stemming en español : `SnowballStemmer`"
   ]
  },
  {
   "cell_type": "code",
   "execution_count": 26,
   "metadata": {
    "colab": {
     "base_uri": "https://localhost:8080/"
    },
    "id": "4i-zjHtsrkeM",
    "outputId": "1f76ed36-22df-4271-eaa2-5f85af05cde0"
   },
   "outputs": [
    {
     "name": "stdout",
     "output_type": "stream",
     "text": [
      "['hermanit', 'mio', 'te', 'estay', 'peg', 'el', 'mans', 'show']\n"
     ]
    }
   ],
   "source": [
    "stemmer = SnowballStemmer('spanish')\n",
    "stemmed_doc = [stemmer.stem(str(token)) for token in tokens]\n",
    "print(stemmed_doc)"
   ]
  },
  {
   "cell_type": "markdown",
   "metadata": {
    "id": "iK9FMzMtrkeN"
   },
   "source": [
    "#### Lematización 🙀\n",
    "\n",
    "¿Qué era lematización? \n",
    "\n",
    "Es el proceso de transformar cada token a su lema, el cual es la palabra base sin ningún tipo de flexión o alteración como las conjugaciones. El lema no es otra cosa que la forma que tienen las palabras cuando las buscas en el diccionario.\n",
    "    \n",
    "    \n",
    "\n",
    "  \n",
    "    \n",
    "    \n",
    "Referencia: [Lematización en wikipedia](https://en.wikipedia.org/wiki/Lemmatisation)\n",
    "\n",
    "Refernecia: [Flexión en las palabras](https://es.wikipedia.org/wiki/Flexi%C3%B3n_(ling%C3%BC%C3%ADstica))\n",
    "\n",
    "**Ejemplos**\n",
    "\n",
    "| word | lemma  |\n",
    "|---|---|\n",
    "dije| decir \n",
    "guapas | guapo\n",
    "mesitas | mesa\n",
    " \n",
    "\n",
    "**Lematizar el texto**\n",
    "\n",
    "Al igual que la tokenización, utilizaremos `scpaCy` (a través del objeto `nlp`) para lematizar el contenido."
   ]
  },
  {
   "cell_type": "code",
   "execution_count": 27,
   "metadata": {
    "colab": {
     "base_uri": "https://localhost:8080/"
    },
    "id": "ANwbVZLErkeO",
    "outputId": "44f5eab1-83da-4b20-a2c6-09f31881a314",
    "scrolled": false
   },
   "outputs": [
    {
     "name": "stdout",
     "output_type": "stream",
     "text": [
      "['hermanito', 'mio', 'te', 'estay', 'pegar', 'el', 'manso', 'show']\n"
     ]
    }
   ],
   "source": [
    "lemmatized_content = [word.lemma_ for word in nlp(DOC)]\n",
    "print(lemmatized_content)"
   ]
  },
  {
   "cell_type": "markdown",
   "metadata": {
    "id": "Lk5dLpKHrkeO"
   },
   "source": [
    "\n",
    "**Discusión:**\n",
    "\n",
    "    ¿Cuál es mejor?"
   ]
  },
  {
   "cell_type": "markdown",
   "metadata": {
    "id": "UkhVtHlXrkeP"
   },
   "source": [
    "### Sistema de clasificación con preprocesamiento\n",
    "\n",
    "Para agregar los tokenizadores en el sistema, creamos funciones que que cada documento de forma individual usando nuestro preprocesador favorito. Luego, `CountVectorizer` se encargará de usar estas funciones sobre todo el dataset."
   ]
  },
  {
   "cell_type": "markdown",
   "metadata": {
    "id": "bEQEki0vrkeP"
   },
   "source": [
    "#### Tokenizadores para CountVectorizer"
   ]
  },
  {
   "cell_type": "code",
   "execution_count": 28,
   "metadata": {
    "id": "i8icWekYrkeQ"
   },
   "outputs": [],
   "source": [
    "# Tokenizers para CountVectorizer\n",
    "\n",
    "# Solo tokenizar el doc usando spacy.\n",
    "def tokenizer(doc):\n",
    "    return [x.orth_ for x in nlp(doc)]\n",
    "\n",
    "# Tokenizar y remover las stopwords del doc\n",
    "def tokenizer_with_stopwords(doc):\n",
    "    return [x.orth_ for x in nlp(doc) if x.orth_ not in STOP_WORDS]\n",
    "\n",
    "# Tokenizar y lematizar.\n",
    "def tokenizer_with_lemmatization(doc):\n",
    "    return [x.lemma_ for x in nlp(doc)]\n",
    "\n",
    "# Tokenizar y hacer stemming.\n",
    "def tokenizer_with_stemming(doc):\n",
    "    stemmer = SnowballStemmer('spanish')\n",
    "    return [stemmer.stem(word) for word in [x.orth_ for x in nlp(doc)]]"
   ]
  },
  {
   "cell_type": "markdown",
   "metadata": {
    "id": "r8DScSXNrkeR"
   },
   "source": [
    "#### Creamos nuestro clasificador\n",
    "\n",
    "\n",
    "**Definimos el pipeline**\n",
    "\n",
    "\n"
   ]
  },
  {
   "cell_type": "code",
   "execution_count": 29,
   "metadata": {
    "id": "MSdqw3xKrkeR"
   },
   "outputs": [],
   "source": [
    "# seleccionamos el tokenizador a usar:\n",
    "TOKENIZER = tokenizer\n",
    "\n",
    "# Definimos el vectorizador para convertir el texto a BoW:\n",
    "vectorizer = CountVectorizer(analyzer='word',\n",
    "                             tokenizer=TOKENIZER,\n",
    "                             ngram_range=(1, 1))\n",
    "\n",
    "# Definimos el clasificador que usaremos.\n",
    "clf = MultinomialNB()   \n",
    "\n",
    "# Creamos el pipeline\n",
    "text_clf_2 = Pipeline([('vect', vectorizer), ('clf', clf)])"
   ]
  },
  {
   "cell_type": "markdown",
   "metadata": {
    "id": "zBuJ_Sd1rkeS"
   },
   "source": [
    "**Entrenamos nuestro pipeline y predecimos**\n"
   ]
  },
  {
   "cell_type": "code",
   "execution_count": 30,
   "metadata": {
    "id": "S4TEhH0erkeS"
   },
   "outputs": [],
   "source": [
    "text_clf_2.fit(X_train, y_train)\n",
    "y_pred = text_clf_2.predict(X_test)"
   ]
  },
  {
   "cell_type": "markdown",
   "metadata": {
    "id": "DcLfgpdirkeT"
   },
   "source": [
    "**Evaluamos**"
   ]
  },
  {
   "cell_type": "code",
   "execution_count": 31,
   "metadata": {
    "colab": {
     "base_uri": "https://localhost:8080/"
    },
    "id": "4FsDGEzNrkeT",
    "outputId": "4ae319fc-48ee-41ee-c27e-ef227d933a8b"
   },
   "outputs": [
    {
     "name": "stdout",
     "output_type": "stream",
     "text": [
      "[[67  0  0  0  7  3  0  0  1  0  0 10  0  0  0  0  0  0  6  0]\n",
      " [ 1 68  1  5  0  1  5  2  0  1  0  1  0  0  0  0  0  0  0  0]\n",
      " [ 0  1 60  6  0  9  3  0  0  1  0  0  0  0  0  0  0  0  0 10]\n",
      " [ 0  1  1 53  0  1  4  4  0  2  5  0  0  0  0  0  0  0  0  1]\n",
      " [ 3  7  0  0 57  2  3  1 12  0  1  2  1  0  0  0  1  2  4  0]\n",
      " [ 0  1  2  2  0 52 10  0  0  0  1  0  0  0  0  0  0  0  2  7]\n",
      " [ 0  1  2  2  0 22 45  5  0  5  1  0  0  0  0  0  0  0  0  9]\n",
      " [ 0  8  0  4  0  3  3 52  0  0  7  0  0  0  0  0  0  0  0  0]\n",
      " [ 0  1  0  0  0  2  0  0 73  0  1  1  0  0  0  0  0  2  2  0]\n",
      " [ 0  4  0  8  0  3  2  1  0 64  3  0  0  0  0  0  0  0  0  0]\n",
      " [ 0  1  0  3  0  1  2  1  0  3 66  0  0  0  0  0  0  0  0  0]\n",
      " [ 8  0  0  1  9  5  1  1  2  0  0 45  0  0  0  0  0  0 11  0]\n",
      " [ 0  1  1  0 10  2  0  0  1  0  0  3 40  7  1  3  7  9  2  0]\n",
      " [ 4  1  0  0  1  1  0  0  0  0  0  0  0 57  1  1  1  5  1  0]\n",
      " [ 0  1  0  0  5  1  1  0  1  0  0  2  0  5 53  0  7  3  1  0]\n",
      " [ 1  0  0  0  4  3  0  0  0  0  0  3  0  4  1 53  2 13  1  0]\n",
      " [ 2  0  1  1  4  3  0  0  1  0  0  4  1  1  2  1 44  7  0  0]\n",
      " [ 0  1  0  0  6  2  4  0  1  0  0  3  0  1  0  2  1 55  0  2]\n",
      " [ 8  0  0  0  4  0  1  0  1  0  0  9  0  0  0  0  0  0 57  1]\n",
      " [ 0  0  2  2  0 27 20  1  0  0  0  0  0  0  0  0  0  0  0 32]]\n"
     ]
    }
   ],
   "source": [
    "# usando la matriz de confusión:\n",
    "print(confusion_matrix(y_test, y_pred))"
   ]
  },
  {
   "cell_type": "code",
   "execution_count": 32,
   "metadata": {
    "colab": {
     "base_uri": "https://localhost:8080/"
    },
    "id": "hwgSFe-qTjyE",
    "outputId": "d7bf9e34-1b26-4537-c047-bd4b0a7e01a2"
   },
   "outputs": [
    {
     "name": "stdout",
     "output_type": "stream",
     "text": [
      "                        precision    recall  f1-score   support\n",
      "\n",
      "  actualidad-economica       0.71      0.71      0.71        94\n",
      "        america-latina       0.70      0.80      0.75        85\n",
      "              animales       0.86      0.67      0.75        90\n",
      "                  asia       0.61      0.74      0.67        72\n",
      "                 chile       0.53      0.59      0.56        96\n",
      "          curiosidades       0.36      0.68      0.47        77\n",
      "                debate       0.43      0.49      0.46        92\n",
      "                  eeuu       0.76      0.68      0.72        77\n",
      "           entrevistas       0.78      0.89      0.83        82\n",
      "                europa       0.84      0.75      0.80        85\n",
      "          mediooriente       0.78      0.86      0.81        77\n",
      "   negocios-y-empresas       0.54      0.54      0.54        83\n",
      "region-de-la-araucania       0.95      0.46      0.62        87\n",
      "   region-de-los-lagos       0.76      0.78      0.77        73\n",
      "    region-de-los-rios       0.91      0.66      0.77        80\n",
      "  region-de-valparaiso       0.88      0.62      0.73        85\n",
      "    region-del-bio-bio       0.70      0.61      0.65        72\n",
      "  region-metropolitana       0.57      0.71      0.63        78\n",
      "           tu-bolsillo       0.66      0.70      0.68        81\n",
      "                 viral       0.52      0.38      0.44        84\n",
      "\n",
      "              accuracy                           0.66      1650\n",
      "             macro avg       0.69      0.67      0.67      1650\n",
      "          weighted avg       0.69      0.66      0.67      1650\n",
      "\n"
     ]
    }
   ],
   "source": [
    "# usando el classification report:\n",
    "print(classification_report(y_test, y_pred))"
   ]
  },
  {
   "cell_type": "markdown",
   "metadata": {
    "id": "FpfM59tlrkeU"
   },
   "source": [
    "#### Pregunta abierta: ¿Por qué no mejoran los resultados?\n",
    "\n",
    "[Aquí](https://www.quora.com/Is-it-normal-to-get-better-accuracy-without-stemming-and-lemmatization-than-using-them-in-NLP-text-classification) hay una muy buena discusión al respecto."
   ]
  },
  {
   "cell_type": "markdown",
   "metadata": {
    "id": "-llKJGWfrkeU"
   },
   "source": [
    "### Clasificación usando Regresión Logísitica\n",
    "\n",
    "No profundizaremos en este clasificador, mas del hecho de que se \"supone\" que debería tener mejor rendimiento que el de bayes.\n",
    "\n",
    "Referencia: [Regresión Logística](https://en.wikipedia.org/wiki/Logistic_regression)"
   ]
  },
  {
   "cell_type": "markdown",
   "metadata": {
    "id": "Zx7H_ODPrkeV"
   },
   "source": [
    "**Definimos nuestro Pipeline**"
   ]
  },
  {
   "cell_type": "code",
   "execution_count": 33,
   "metadata": {
    "id": "TLarckqRrkeV"
   },
   "outputs": [],
   "source": [
    "# Qué tokenizer usaremos?\n",
    "TOKENIZER = tokenizer_with_lemmatization\n",
    "\n",
    "# Definimos el vectorizador para convertir el texto a BoW:\n",
    "vectorizer = CountVectorizer(analyzer='word',\n",
    "                             tokenizer=TOKENIZER,\n",
    "                             ngram_range=(1, 1))\n",
    "\n",
    "# Ahora definimos regresión logística como clasificador.\n",
    "log_mod = LogisticRegression(solver='lbfgs', multi_class='ovr', max_iter = 1000)   \n",
    "log_pipe = Pipeline([('vect', vectorizer), ('clf', log_mod)])"
   ]
  },
  {
   "cell_type": "markdown",
   "metadata": {
    "id": "q2bHPXz-rkeW"
   },
   "source": [
    "**Entrenamos y predecimos**"
   ]
  },
  {
   "cell_type": "code",
   "execution_count": 34,
   "metadata": {
    "id": "mzP7Q-ykrkeW"
   },
   "outputs": [],
   "source": [
    "log_pipe.fit(X_train, y_train)\n",
    "y_pred = log_pipe.predict(X_test)"
   ]
  },
  {
   "cell_type": "markdown",
   "metadata": {
    "id": "lsB58IKzrkeX"
   },
   "source": [
    "**Evaluamos**"
   ]
  },
  {
   "cell_type": "code",
   "execution_count": 35,
   "metadata": {
    "colab": {
     "base_uri": "https://localhost:8080/"
    },
    "id": "vUVjCrnerkeX",
    "outputId": "df4df9e5-f338-4b94-caa2-75541d5eb150"
   },
   "outputs": [
    {
     "name": "stdout",
     "output_type": "stream",
     "text": [
      "[[67  0  0  0  3  3  1  0  1  0  0 11  0  0  0  0  3  0  5  0]\n",
      " [ 1 66  2  4  1  0  4  4  0  3  0  0  0  0  0  0  0  0  0  0]\n",
      " [ 0  0 72  3  0  2  3  0  0  1  0  0  0  0  0  0  0  0  0  9]\n",
      " [ 0  1  1 60  0  2  1  1  0  0  3  0  0  0  0  1  0  0  0  2]\n",
      " [ 7  0  0  1 59  1  2  0  6  0  0  1  4  0  1  2  1  6  4  1]\n",
      " [ 0  1  3  5  0 37 12  3  0  1  0  0  0  0  0  0  0  1  3 11]\n",
      " [ 0  0  6  4  0 13 50  5  0  5  1  1  0  0  0  0  0  0  0  7]\n",
      " [ 0  4  0  9  0  1  3 50  0  0  9  0  0  0  0  0  0  0  0  1]\n",
      " [ 0  1  0  0  0  0  0  0 78  0  0  2  0  0  0  0  0  1  0  0]\n",
      " [ 1  1  0  5  0  0  1  2  0 71  1  0  0  0  0  0  0  2  0  1]\n",
      " [ 0  3  0  3  0  0  3  5  0  2 60  0  1  0  0  0  0  0  0  0]\n",
      " [10  0  0  0 10  2  0  1  0  0  0 39  1  0  0  1  3  4 10  2]\n",
      " [ 0  0  0  0  2  0  0  0  0  0  0  1 82  0  1  0  1  0  0  0]\n",
      " [ 0  0  0  0  0  0  0  0  0  0  0  0  1 67  1  0  2  2  0  0]\n",
      " [ 0  0  0  0  1  0  0  0  0  0  0  0  0  2 74  0  1  1  0  1]\n",
      " [ 0  0  0  0  1  1  0  0  1  0  0  4  1  2  0 69  1  5  0  0]\n",
      " [ 0  0  1  0  0  0  0  0  0  0  0  1  3  2  1  2 58  3  0  1]\n",
      " [ 2  0  0  0  3  0  1  0  1  0  0  2  0  0  0  1  1 66  0  1]\n",
      " [12  1  0  0  3  3  1  0  0  0  0  7  0  0  1  1  0  0 52  0]\n",
      " [ 0  0  5  1  0 11  8  1  0  0  0  0  0  0  0  0  0  0  0 58]]\n"
     ]
    }
   ],
   "source": [
    "# usando la matriz de confusión:\n",
    "print(confusion_matrix(y_test, y_pred))"
   ]
  },
  {
   "cell_type": "code",
   "execution_count": 36,
   "metadata": {
    "colab": {
     "base_uri": "https://localhost:8080/"
    },
    "id": "pbHtjnnHcPnN",
    "outputId": "4db0c675-ae93-4828-a3f6-64d1ccc67833"
   },
   "outputs": [
    {
     "name": "stdout",
     "output_type": "stream",
     "text": [
      "                        precision    recall  f1-score   support\n",
      "\n",
      "  actualidad-economica       0.67      0.71      0.69        94\n",
      "        america-latina       0.85      0.78      0.81        85\n",
      "              animales       0.80      0.80      0.80        90\n",
      "                  asia       0.63      0.83      0.72        72\n",
      "                 chile       0.71      0.61      0.66        96\n",
      "          curiosidades       0.49      0.48      0.48        77\n",
      "                debate       0.56      0.54      0.55        92\n",
      "                  eeuu       0.69      0.65      0.67        77\n",
      "           entrevistas       0.90      0.95      0.92        82\n",
      "                europa       0.86      0.84      0.85        85\n",
      "          mediooriente       0.81      0.78      0.79        77\n",
      "   negocios-y-empresas       0.57      0.47      0.51        83\n",
      "region-de-la-araucania       0.88      0.94      0.91        87\n",
      "   region-de-los-lagos       0.92      0.92      0.92        73\n",
      "    region-de-los-rios       0.94      0.93      0.93        80\n",
      "  region-de-valparaiso       0.90      0.81      0.85        85\n",
      "    region-del-bio-bio       0.82      0.81      0.81        72\n",
      "  region-metropolitana       0.73      0.85      0.78        78\n",
      "           tu-bolsillo       0.70      0.64      0.67        81\n",
      "                 viral       0.61      0.69      0.65        84\n",
      "\n",
      "              accuracy                           0.75      1650\n",
      "             macro avg       0.75      0.75      0.75      1650\n",
      "          weighted avg       0.75      0.75      0.75      1650\n",
      "\n"
     ]
    }
   ],
   "source": [
    "# usando el classification report:\n",
    "print(classification_report(y_test, y_pred))"
   ]
  },
  {
   "cell_type": "markdown",
   "metadata": {
    "id": "BfuljwvkrkeY"
   },
   "source": [
    "### N-gramas"
   ]
  },
  {
   "cell_type": "markdown",
   "metadata": {
    "id": "A4FVICiKrkeY"
   },
   "source": [
    "Los n-gramas son conjuntos de n-tokens seguidos entre si. La idea de usar esto es que además, capturemos conceptos. \n",
    "\n",
    "Por ejemplo, si usamos 2-gramas sobre `'Hoy día comí lentejas'`, esta quedaría como:\n",
    "\n",
    "\n",
    "```python\n",
    "['hoy dia', 'día comí', 'comí lentejas']\n",
    "```\n",
    "\n",
    "`CountVectorizer` tiene la opción para poner n-gramas del tamaño que tu quieras, y además incluir mas pequeños. Todo esto se define en el parámetro `ngram_range`. Este recibe una tupla con los rangos del n-grama mas pequeño y el mas grande. Por ejemplo, para (1,2), la oración anterior quedaría: \n",
    "\n",
    "\n",
    "```python\n",
    "['hoy', 'día', 'comí', 'lentejas', 'hoy dia', 'día comí', 'comí lentejas']\n",
    "```\n",
    "\n",
    "Nota que esto incrementa el tamaño de los vectores de Bag of words y por lo tanto, del entrenamiento y de la predicción. "
   ]
  },
  {
   "cell_type": "code",
   "execution_count": 37,
   "metadata": {
    "id": "0ieHlXKUrkeZ"
   },
   "outputs": [],
   "source": [
    "# Qué tokenizer usaremos?\n",
    "TOKENIZER = tokenizer_with_lemmatization\n",
    "\n",
    "# Definimos el vectorizador para convertir el texto a BoW:\n",
    "vectorizer = CountVectorizer(analyzer='word',\n",
    "                             tokenizer=TOKENIZER,\n",
    "                             ngram_range=(1, 3))\n",
    "\n",
    "# Ahora definimos regresión logística como clasificador.\n",
    "log_mod = LogisticRegression(solver='lbfgs', multi_class='ovr', max_iter = 1000)   \n",
    "log_pipe = Pipeline([('vect', vectorizer), ('clf', log_mod)])"
   ]
  },
  {
   "cell_type": "markdown",
   "metadata": {
    "id": "DAWd2DzTrkea"
   },
   "source": [
    "**Entrenamos y predecimos**"
   ]
  },
  {
   "cell_type": "code",
   "execution_count": 38,
   "metadata": {
    "id": "SvraYYiCrkea"
   },
   "outputs": [],
   "source": [
    "log_pipe.fit(X_train, y_train)\n",
    "y_pred = log_pipe.predict(X_test)"
   ]
  },
  {
   "cell_type": "markdown",
   "metadata": {
    "id": "d9gR54nnrkeb"
   },
   "source": [
    "**Evaluamos**"
   ]
  },
  {
   "cell_type": "code",
   "execution_count": 39,
   "metadata": {
    "colab": {
     "base_uri": "https://localhost:8080/"
    },
    "id": "2CeBFwNBrkeb",
    "outputId": "303f975a-aacc-4362-dbc4-0b4a2fc09ccc"
   },
   "outputs": [
    {
     "name": "stdout",
     "output_type": "stream",
     "text": [
      "[[65  0  0  0  6  2  0  0  2  0  0 11  0  0  1  0  3  0  4  0]\n",
      " [ 0 66  2  5  2  0  3  3  0  3  0  1  0  0  0  0  0  0  0  0]\n",
      " [ 0  0 70  5  0  0  0  0  0  1  0  0  0  0  0  0  0  2  0 12]\n",
      " [ 0  1  1 61  0  1  1  1  0  2  2  0  0  0  0  0  0  0  0  2]\n",
      " [ 5  0  0  0 64  2  2  1  5  0  0  2  4  0  1  2  1  5  2  0]\n",
      " [ 0  1  3  5  0 41 11  3  0  1  0  0  0  0  0  0  0  0  3  9]\n",
      " [ 1  1  6  4  1 13 47  4  0  4  2  1  0  0  0  0  0  0  0  8]\n",
      " [ 0  3  0  7  0  1  2 56  0  0  8  0  0  0  0  0  0  0  0  0]\n",
      " [ 0  1  0  0  0  0  0  0 79  0  0  2  0  0  0  0  0  0  0  0]\n",
      " [ 1  0  0  8  0  0  1  3  0 68  2  0  0  0  0  0  1  0  0  1]\n",
      " [ 0  2  0  4  0  0  2  3  0  2 64  0  0  0  0  0  0  0  0  0]\n",
      " [ 8  0  0  0  7  2  0  1  0  0  0 45  1  0  0  3  3  2 10  1]\n",
      " [ 0  0  0  0  1  0  0  0  0  0  0  2 82  0  1  0  0  1  0  0]\n",
      " [ 0  0  0  0  0  0  0  0  0  0  0  1  0 69  1  1  1  0  0  0]\n",
      " [ 0  0  0  0  1  0  0  0  0  0  0  0  0  1 76  0  1  0  0  1]\n",
      " [ 0  0  0  0  1  1  0  0  1  0  0  3  2  2  1 69  1  4  0  0]\n",
      " [ 1  0  1  0  0  0  1  0  0  0  0  1  1  3  0  3 59  2  0  0]\n",
      " [ 1  0  0  0  4  0  1  0  1  0  0  2  1  0  0  3  2 63  0  0]\n",
      " [10  1  0  0  1  2  1  0  0  0  0 12  0  0  1  1  0  0 52  0]\n",
      " [ 0  0  6  1  0 10  3  0  0  0  0  0  0  0  0  0  0  0  0 64]]\n"
     ]
    }
   ],
   "source": [
    "# usando la matriz de confusión:\n",
    "print(confusion_matrix(y_test, y_pred))"
   ]
  },
  {
   "cell_type": "code",
   "execution_count": 40,
   "metadata": {
    "colab": {
     "base_uri": "https://localhost:8080/"
    },
    "id": "b3Zr-dl4dw0p",
    "outputId": "b81d3262-127c-44f1-a271-0c100d6e385b"
   },
   "outputs": [
    {
     "name": "stdout",
     "output_type": "stream",
     "text": [
      "                        precision    recall  f1-score   support\n",
      "\n",
      "  actualidad-economica       0.71      0.69      0.70        94\n",
      "        america-latina       0.87      0.78      0.82        85\n",
      "              animales       0.79      0.78      0.78        90\n",
      "                  asia       0.61      0.85      0.71        72\n",
      "                 chile       0.73      0.67      0.70        96\n",
      "          curiosidades       0.55      0.53      0.54        77\n",
      "                debate       0.63      0.51      0.56        92\n",
      "                  eeuu       0.75      0.73      0.74        77\n",
      "           entrevistas       0.90      0.96      0.93        82\n",
      "                europa       0.84      0.80      0.82        85\n",
      "          mediooriente       0.82      0.83      0.83        77\n",
      "   negocios-y-empresas       0.54      0.54      0.54        83\n",
      "region-de-la-araucania       0.90      0.94      0.92        87\n",
      "   region-de-los-lagos       0.92      0.95      0.93        73\n",
      "    region-de-los-rios       0.93      0.95      0.94        80\n",
      "  region-de-valparaiso       0.84      0.81      0.83        85\n",
      "    region-del-bio-bio       0.82      0.82      0.82        72\n",
      "  region-metropolitana       0.80      0.81      0.80        78\n",
      "           tu-bolsillo       0.73      0.64      0.68        81\n",
      "                 viral       0.65      0.76      0.70        84\n",
      "\n",
      "              accuracy                           0.76      1650\n",
      "             macro avg       0.77      0.77      0.76      1650\n",
      "          weighted avg       0.76      0.76      0.76      1650\n",
      "\n"
     ]
    }
   ],
   "source": [
    "# usando el classification report:\n",
    "print(classification_report(y_test, y_pred))"
   ]
  },
  {
   "cell_type": "markdown",
   "metadata": {
    "id": "VZ4voVhyrkej"
   },
   "source": [
    "## Créditos\n",
    "\n",
    "Todas las noticias extraidas perteneces a [Biobio Chile](https://www.biobiochile.cl/), los cuales gentilmente licencian todo su material a través de la [licencia Creative Commons (CC-BY-NC)](https://creativecommons.org/licenses/by-nc/2.0/cl/)"
   ]
  },
  {
   "cell_type": "markdown",
   "metadata": {
    "id": "UpiU8kRYrkek"
   },
   "source": [
    "## Referencias\n",
    "\n",
    "Gitgub del curso: \n",
    "- https://github.com/dccuchile/CC6205\n",
    "\n",
    "Slides:\n",
    "- https://web.stanford.edu/~jurafsky/slp3/slides/7_NB.pdf\n",
    "\n",
    "\n",
    "Análisis de sentimientos como clasificación de texto:\n",
    "- https://affectivetweets.cms.waikato.ac.nz/benchmark/\n",
    "\n",
    "Algunos Recursos útiles\n",
    "- [Pandas Cheat Sheet](https://pandas.pydata.org/Pandas_Cheat_Sheet.pdf)\n",
    "- [Scikit-learn Cheat Sheet](https://s3.amazonaws.com/assets.datacamp.com/blog_assets/Scikit_Learn_Cheat_Sheet_Python.pdf)\n",
    "- [Spacy Tutorial](https://www.datacamp.com/community/blog/spacy-cheatsheet)\n",
    "- [NLTK Cheat sheet](http://sapir.psych.wisc.edu/programming_for_psychologists/cheat_sheets/Text-Analysis-with-NLTK-Cheatsheet.pdf)"
   ]
  }
 ],
 "metadata": {
  "colab": {
   "collapsed_sections": [
    "FpfM59tlrkeU"
   ],
   "name": "CC6205_Auxiliar1_TextClassification.ipynb",
   "provenance": []
  },
  "kernelspec": {
   "display_name": "Python 3 (ipykernel)",
   "language": "python",
   "name": "python3"
  },
  "language_info": {
   "codemirror_mode": {
    "name": "ipython",
    "version": 3
   },
   "file_extension": ".py",
   "mimetype": "text/x-python",
   "name": "python",
   "nbconvert_exporter": "python",
   "pygments_lexer": "ipython3",
   "version": "3.8.10"
  },
  "toc": {
   "base_numbering": 1,
   "nav_menu": {},
   "number_sections": true,
   "sideBar": true,
   "skip_h1_title": true,
   "title_cell": "Table of Contents",
   "title_sidebar": "Contents",
   "toc_cell": false,
   "toc_position": {
    "height": "770px",
    "left": "1561px",
    "top": "111.133px",
    "width": "359px"
   },
   "toc_section_display": true,
   "toc_window_display": false
  },
  "varInspector": {
   "cols": {
    "lenName": 16,
    "lenType": 16,
    "lenVar": 40
   },
   "kernels_config": {
    "python": {
     "delete_cmd_postfix": "",
     "delete_cmd_prefix": "del ",
     "library": "var_list.py",
     "varRefreshCmd": "print(var_dic_list())"
    },
    "r": {
     "delete_cmd_postfix": ") ",
     "delete_cmd_prefix": "rm(",
     "library": "var_list.r",
     "varRefreshCmd": "cat(var_dic_list()) "
    }
   },
   "types_to_exclude": [
    "module",
    "function",
    "builtin_function_or_method",
    "instance",
    "_Feature"
   ],
   "window_display": false
  }
 },
 "nbformat": 4,
 "nbformat_minor": 1
}
